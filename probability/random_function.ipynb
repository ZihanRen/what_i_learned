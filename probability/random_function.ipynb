{
 "cells": [
  {
   "cell_type": "markdown",
   "metadata": {},
   "source": [
    "Q.1: Given a list of integer having same probability 1/N. Create a function which pick a random number from the list according to probability\n"
   ]
  },
  {
   "cell_type": "code",
   "execution_count": 1,
   "metadata": {},
   "outputs": [],
   "source": [
    "import random\n",
    "input_array = [1,2,3,4,5]\n",
    "def get_random_item():\n",
    "  return random.choice(input_array)"
   ]
  },
  {
   "cell_type": "code",
   "execution_count": 2,
   "metadata": {},
   "outputs": [],
   "source": [
    "input_array = [1,2,3,4,5]\n",
    "count = 0\n",
    "def get_random_item():\n",
    "  count = count + 1\n",
    "  array_size = len(input_array)\n",
    "  return input_array[count % array_size]"
   ]
  },
  {
   "cell_type": "code",
   "execution_count": 3,
   "metadata": {},
   "outputs": [],
   "source": [
    "import time\n",
    "\n",
    "input_array = [1,2,3,4,5]\n",
    "def get_random_item():\n",
    "  timestamp = time.time()\n",
    "  array_size = len(input_array)\n",
    "  return input_array[timestamp % array_size]"
   ]
  },
  {
   "cell_type": "markdown",
   "metadata": {},
   "source": [
    "Q.2: Given a list of subjects with the corresponding number of students who opted for each subject, design a function where each subject is picked with a probability proportional to its student count.\n"
   ]
  },
  {
   "cell_type": "code",
   "execution_count": null,
   "metadata": {},
   "outputs": [],
   "source": [
    "def get_item(subject_count_map):\n",
    "  array = []\n",
    "  for subject, count in subject_count_map:\n",
    "    array.extend([subject]*count)\n",
    "    return get_random_item(array) # Already implemented above\n",
    "\n",
    "\"\"\"\n",
    "Input = {Math: 2, History: 1, Science: 3}\n",
    "array = [Math, Math, History, Science, Science, Science]\n",
    "\"\"\" "
   ]
  },
  {
   "cell_type": "code",
   "execution_count": null,
   "metadata": {},
   "outputs": [],
   "source": [
    "def get_item(subject_count_map):\n",
    "  cummulative_array = []\n",
    "  total_count = 0\n",
    "  for subject, count in subject_count_map:\n",
    "    cummulative_array.append([subject, total_count+count])\n",
    "    total_count = total_count + count\n",
    "  item_index = get_random_number(0, total_count) # Get random number between 0-total_count\n",
    "  for subject, total_count in cummulative_array:\n",
    "    if item_index < total_count:\n",
    "      return subject\n",
    "  return array[-1][0] # Return last subject\n",
    "\n",
    "\"\"\"\n",
    "Input = {Math: 2, History: 1, Science: 3}\n",
    "cummulative_array = [[Math, 2], [History, 3], [Science, 6]]\n",
    "\"\"\""
   ]
  },
  {
   "cell_type": "code",
   "execution_count": null,
   "metadata": {},
   "outputs": [],
   "source": []
  },
  {
   "cell_type": "markdown",
   "metadata": {},
   "source": []
  }
 ],
 "metadata": {
  "kernelspec": {
   "display_name": "base",
   "language": "python",
   "name": "python3"
  },
  "language_info": {
   "codemirror_mode": {
    "name": "ipython",
    "version": 3
   },
   "file_extension": ".py",
   "mimetype": "text/x-python",
   "name": "python",
   "nbconvert_exporter": "python",
   "pygments_lexer": "ipython3",
   "version": "3.8.5"
  }
 },
 "nbformat": 4,
 "nbformat_minor": 2
}
