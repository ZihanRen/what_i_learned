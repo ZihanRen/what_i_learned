{
 "cells": [
  {
   "cell_type": "markdown",
   "metadata": {},
   "source": [
    "* linear regression "
   ]
  },
  {
   "cell_type": "code",
   "execution_count": null,
   "metadata": {},
   "outputs": [
    {
     "name": "stdout",
     "output_type": "stream",
     "text": [
      "(5, 3)\n",
      "(5, 4)\n",
      "(4, 5)\n",
      "(4, 4)\n",
      "(4,)\n"
     ]
    }
   ],
   "source": [
    "# ordinary least squares linear regression\n",
    "\n",
    "import copy\n",
    "import numpy as np\n",
    "\n",
    "class LinearRegression:\n",
    "    def __init__(self):\n",
    "        # no hyperparameters to intialize\n",
    "        pass\n",
    "\n",
    "    def fit(self, X, y):\n",
    "        # read data and labels from input\n",
    "        self.X = X\n",
    "        self.y = y\n",
    "        # create a vector of all 1's to X\n",
    "        X = copy.deepcopy(X) # keep original X intact\n",
    "        dummy = np.ones(X.shape[0]).reshape(-1,1) # create a vector of 1's\n",
    "\n",
    "        X = np.concatenate((dummy, X), 1) # add it to X\n",
    "        print(X.shape)\n",
    "        # use OLS to estimate betas\n",
    "        xT = X.transpose()\n",
    "        print(xT.shape)\n",
    "        inversed = np.linalg.inv(xT.dot(X))\n",
    "        print(inversed.shape)\n",
    "        betas = inversed.dot(xT).dot(y)\n",
    "        print(betas.shape)\n",
    "        # bias is the first column\n",
    "        self.b = betas[0]\n",
    "        # weights are the rest\n",
    "        self.w = betas[1:]\n",
    "\n",
    "        return self\n",
    "    \n",
    "    def predict(self, X):\n",
    "        return X.dot(self.w) + self.b\n",
    "\n",
    "\n",
    "# test \n",
    "if __name__ == \"__main__\":\n",
    "    # create a random dataset\n",
    "    np.random.seed(0)\n",
    "    X = np.array([[1,2,3],[4,5,6],[2,2,2],[1,1,1],[0,1,0]])\n",
    "    print(X.shape)\n",
    "    y = 1*X[:,0] + 2*X[:,1] + 3*X[:,2] \n",
    "\n",
    "\n",
    "    # # fit a linear regression model\n",
    "    model = LinearRegression().fit(X, y)\n",
    "    # print(model.w, model.b)\n",
    "    # # predict on the same dataset\n",
    "    # y_pred = model.predict(X)\n",
    "    # print(y_pred[:10])\n",
    "    # # check if the model is correct\n",
    "    # assert np.allclose(y_pred, y)\n",
    "    # print(\"Passed\")"
   ]
  },
  {
   "cell_type": "code",
   "execution_count": 15,
   "metadata": {},
   "outputs": [],
   "source": [
    "# gradient descent linear regression"
   ]
  },
  {
   "cell_type": "markdown",
   "metadata": {},
   "source": []
  }
 ],
 "metadata": {
  "kernelspec": {
   "display_name": "mlops",
   "language": "python",
   "name": "python3"
  },
  "language_info": {
   "codemirror_mode": {
    "name": "ipython",
    "version": 3
   },
   "file_extension": ".py",
   "mimetype": "text/x-python",
   "name": "python",
   "nbconvert_exporter": "python",
   "pygments_lexer": "ipython3",
   "version": "3.9.12"
  }
 },
 "nbformat": 4,
 "nbformat_minor": 2
}
