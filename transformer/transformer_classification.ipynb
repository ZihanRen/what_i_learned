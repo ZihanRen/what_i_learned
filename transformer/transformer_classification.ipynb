{
 "cells": [
  {
   "cell_type": "code",
   "execution_count": 1,
   "metadata": {},
   "outputs": [],
   "source": [
    "import torch\n",
    "from torch import nn\n",
    "import torch.nn.functional as F\n",
    "\n",
    "# self attention layer\n",
    "class SelfAttention(nn.Module):\n",
    "    def __init__(self, k, heads=4, mask=False):\n",
    "        super().__init__()\n",
    "        assert k % heads == 0\n",
    "        self.k, self.heads = k, heads\n",
    "        self.tokeys = nn.Linear(k, k, bias=False)\n",
    "        self.toqueries = nn.Linear(k, k, bias=False)\n",
    "        self.tovalues = nn.Linear(k, k, bias=False)\n",
    "        self.unifyheads = nn.Linear(k, k)\n",
    "\n",
    "    def forward(self, x):\n",
    "        # Example input shape: (batch_size=2, sequence_length=10, k=6)\n",
    "        b, t, k = x.size() # t represents sequence length, k represents sequence dimension\n",
    "        h = self.heads\n",
    "        queries = self.toqueries(x)\n",
    "        keys = self.tokeys(x)\n",
    "        values = self.tovalues(x)\n",
    "        s = k // h\n",
    "        keys = keys.view(b, t, h, s).transpose(1, 2).contiguous().view(b * h, t, s)\n",
    "        queries = queries.view(b, t, h, s).transpose(1, 2).contiguous().view(b * h, t, s)\n",
    "        values = values.view(b, t, h, s).transpose(1, 2).contiguous().view(b * h, t, s)\n",
    "        queries = queries\n",
    "        keys = keys\n",
    "        dot = torch.bmm(queries, keys.transpose(1, 2))\n",
    "        dot = dot / (k ** (1/2))\n",
    "        dot = F.softmax(dot, dim=2)\n",
    "        out = torch.bmm(dot, values).view(b, h, t, s)\n",
    "        out = out.transpose(1, 2).contiguous().view(b, t, s * h)\n",
    "        return self.unifyheads(out)"
   ]
  },
  {
   "attachments": {},
   "cell_type": "markdown",
   "metadata": {},
   "source": [
    "#### Transformer block\n",
    "\n",
    "* block simply consists of self-attention, norm layer and MLP layer. Middle representation learning"
   ]
  },
  {
   "cell_type": "code",
   "execution_count": 2,
   "metadata": {},
   "outputs": [],
   "source": [
    "class TransformerBlock(nn.Module):\n",
    "  def __init__(self, k, heads):\n",
    "    super().__init__()\n",
    "\n",
    "    self.attention = SelfAttention(k, heads=heads)\n",
    "\n",
    "    self.norm1 = nn.LayerNorm(k)\n",
    "    self.norm2 = nn.LayerNorm(k)\n",
    "\n",
    "    self.ff = nn.Sequential(\n",
    "      nn.Linear(k, 4 * k),\n",
    "      nn.ReLU(),\n",
    "      nn.Linear(4 * k, k))\n",
    "\n",
    "  def forward(self, x):\n",
    "    attended = self.attention(x)\n",
    "    x = self.norm1(attended + x)\n",
    "\n",
    "    fedforward = self.ff(x)\n",
    "    return self.norm2(fedforward + x)"
   ]
  },
  {
   "attachments": {},
   "cell_type": "markdown",
   "metadata": {},
   "source": [
    "#### Position and tokens embedding\n",
    "\n",
    "* For classification"
   ]
  },
  {
   "cell_type": "code",
   "execution_count": 29,
   "metadata": {},
   "outputs": [],
   "source": [
    "class Transformer(nn.Module):\n",
    "    def __init__(self, k, heads, depth, seq_length, num_tokens, num_classes):\n",
    "        super().__init__()\n",
    "\n",
    "        self.num_tokens = num_tokens\n",
    "        self.token_emb = nn.Embedding(num_tokens, k)\n",
    "        self.pos_emb = nn.Embedding(seq_length, k)\n",
    "\n",
    "\t\t# The sequence of transformer blocks that does all the\n",
    "\t\t# heavy lifting\n",
    "        tblocks = []\n",
    "        for i in range(depth):\n",
    "            tblocks.append(TransformerBlock(k=k, heads=heads))\n",
    "        self.tblocks = nn.Sequential(*tblocks)\n",
    "\n",
    "\t\t# Maps the final output sequence to class logits\n",
    "        self.toprobs = nn.Linear(k, num_classes)\n",
    "\n",
    "    def forward(self, x):\n",
    "        \"\"\"\n",
    "        :param x: A (b, t) tensor of integer values representing\n",
    "                  words (in some predetermined vocabulary).\n",
    "        :return: A (b, c) tensor of log-probabilities over the\n",
    "                 classes (where c is the nr. of classes).\n",
    "        \"\"\"\n",
    "        print(f'input size is {x.size()}')\n",
    "\t\t# generate token embeddings\n",
    "        tokens = self.token_emb(x)\n",
    "        print(f'encoded token size is {tokens.size()}')\n",
    "        b, t, k = tokens.size() # t represents lenght, k represents dimension\n",
    "\n",
    "\t\t# generate position embeddings\n",
    "        positions = torch.arange(t)\n",
    "        print(positions)\n",
    "        print(f'The shape of position encoding space is {positions.size()}')\n",
    "        positions = self.pos_emb(positions)[None, :, :].expand(b, t, k)\n",
    "        print(f'the shape of embedding position is {positions.size()}')\n",
    "\n",
    "        x = tokens + positions\n",
    "        print(f'shape of x input to transformer block is {x.shape}')\n",
    "        x = self.tblocks(x)\n",
    "\n",
    "        # Average-pool over the t dimension and project to class\n",
    "        # probabilities\n",
    "        x = self.toprobs(x.mean(dim=1))\n",
    "        return F.log_softmax(x, dim=1)"
   ]
  },
  {
   "cell_type": "code",
   "execution_count": 30,
   "metadata": {},
   "outputs": [
    {
     "name": "stdout",
     "output_type": "stream",
     "text": [
      "input size is torch.Size([11, 5])\n",
      "encoded token size is torch.Size([11, 5, 9])\n",
      "tensor([0, 1, 2, 3, 4])\n",
      "The shape of position encoding space is torch.Size([5])\n",
      "the shape of embedding position is torch.Size([11, 5, 9])\n",
      "shape of x input to transformer block is torch.Size([11, 5, 9])\n"
     ]
    }
   ],
   "source": [
    "batch_size = 11\n",
    "seq_len = 5\n",
    "voc_size = 10\n",
    "embed_token = 9\n",
    "num_head = 3\n",
    "depth = 4\n",
    "\n",
    "x = torch.randint(low=1,high=10,size=(batch_size, seq_len))\n",
    "\n",
    "# Create an instance of the SelfAttention class with k=6 and heads=2\n",
    "transformer = Transformer(k=embed_token, heads=num_head,num_tokens=voc_size,seq_length=5,num_classes=2,depth=4)\n",
    "\n",
    "# Pass the input tensor to the forward method\n",
    "output = transformer(x)"
   ]
  },
  {
   "attachments": {},
   "cell_type": "markdown",
   "metadata": {},
   "source": [
    "#### General idea:\n",
    "\n",
    "* word sequence input to embedding layer {Representation of both spatial and tokens meaning}. Then those will be input to transformer block"
   ]
  }
 ],
 "metadata": {
  "kernelspec": {
   "display_name": "pnm-old",
   "language": "python",
   "name": "python3"
  },
  "language_info": {
   "codemirror_mode": {
    "name": "ipython",
    "version": 3
   },
   "file_extension": ".py",
   "mimetype": "text/x-python",
   "name": "python",
   "nbconvert_exporter": "python",
   "pygments_lexer": "ipython3",
   "version": "3.9.12"
  },
  "orig_nbformat": 4
 },
 "nbformat": 4,
 "nbformat_minor": 2
}
