{
 "cells": [
  {
   "cell_type": "markdown",
   "metadata": {},
   "source": [
    "####    Embedding\n",
    "\n",
    "* embedding layer is fundamental a lookup table\n",
    "* embedding weight is storage vector\n",
    "* weight (storage vector) is learnable"
   ]
  },
  {
   "cell_type": "code",
   "execution_count": 16,
   "metadata": {},
   "outputs": [
    {
     "name": "stdout",
     "output_type": "stream",
     "text": [
      "Embedding(10, 2)\n",
      "tensor([[-1.3471, -0.2107],\n",
      "        [ 0.8222, -1.2368]], grad_fn=<EmbeddingBackward0>)\n",
      "Parameter containing:\n",
      "tensor([[-1.3471, -0.2107],\n",
      "        [ 0.8222, -1.2368],\n",
      "        [ 0.5653,  0.8164],\n",
      "        [ 0.1587, -0.1992],\n",
      "        [-0.0034,  0.2303],\n",
      "        [-0.5205,  1.4476],\n",
      "        [-0.5092,  1.4745],\n",
      "        [-0.6805, -0.4273],\n",
      "        [-0.5872,  1.0948],\n",
      "        [ 0.1511, -0.2075]], requires_grad=True)\n"
     ]
    }
   ],
   "source": [
    "from torch.nn import Embedding\n",
    "import torch\n",
    "n_embedding, dim = 10,2\n",
    "emd_1 = Embedding(n_embedding, dim)\n",
    "print(emd_1)\n",
    "# get the top two rows of the embedding matrix\n",
    "# 0,1 corresponds to indice\n",
    "output_tensor = emd_1(torch.LongTensor([0,1]))\n",
    "print(output_tensor)\n",
    "print(emd_1.weight)"
   ]
  },
  {
   "cell_type": "markdown",
   "metadata": {},
   "source": []
  }
 ],
 "metadata": {
  "kernelspec": {
   "display_name": "pnm-old",
   "language": "python",
   "name": "python3"
  },
  "language_info": {
   "codemirror_mode": {
    "name": "ipython",
    "version": 3
   },
   "file_extension": ".py",
   "mimetype": "text/x-python",
   "name": "python",
   "nbconvert_exporter": "python",
   "pygments_lexer": "ipython3",
   "version": "3.9.12"
  }
 },
 "nbformat": 4,
 "nbformat_minor": 2
}
