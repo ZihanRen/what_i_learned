{
 "cells": [
  {
   "cell_type": "markdown",
   "metadata": {},
   "source": [
    "### Some really basic OOP concepts\n",
    "\n",
    "#### (1) static method\n",
    "\n",
    "Static method doesn't involve with any class instance - simply a function attached to this class"
   ]
  },
  {
   "cell_type": "code",
   "execution_count": 1,
   "metadata": {},
   "outputs": [
    {
     "name": "stdout",
     "output_type": "stream",
     "text": [
      "random\n"
     ]
    }
   ],
   "source": [
    "class Test():\n",
    "    def __init__(self,par=1):\n",
    "        self.par = par\n",
    "    \n",
    "    @staticmethod\n",
    "    def print_random():\n",
    "        print(\"random\")\n",
    "\n",
    "\n",
    "Test.print_random()"
   ]
  },
  {
   "cell_type": "markdown",
   "metadata": {},
   "source": [
    "#### (2) Inheritance\n",
    "\n",
    "* child class derives data & behaviour from parent class. The reason is to avoid redundancy definitions in different classes\n",
    "* parent class should be abastract and should not be initialized"
   ]
  },
  {
   "cell_type": "code",
   "execution_count": 11,
   "metadata": {},
   "outputs": [
    {
     "name": "stdout",
     "output_type": "stream",
     "text": [
      "15\n",
      "9\n",
      "10\n"
     ]
    }
   ],
   "source": [
    "from abc import ABC, abstractmethod\n",
    "\n",
    "# Correctly defining the abstract class using ABC\n",
    "class Parent(ABC):\n",
    "    base_parameter = 2\n",
    "\n",
    "    def __init__(self, varx, vary, varz, operation):\n",
    "        self.varx = varx\n",
    "        self.vary = vary\n",
    "        self.varz = varz\n",
    "        self.operation = operation\n",
    "\n",
    "    def multiply_parameter(self):\n",
    "        if self.operation == \"multiply\":\n",
    "            return self.varx * self.vary * self.varz + self.base_parameter\n",
    "        elif self.operation == \"add\":\n",
    "            return self.varx + self.vary + self.varz + self.base_parameter\n",
    "        else:\n",
    "            print(\"Operation not supported\")\n",
    "            return self.base_parameter\n",
    "\n",
    "    @abstractmethod\n",
    "    def print_state(self):\n",
    "        pass\n",
    "\n",
    "class Child1(Parent):\n",
    "    base_parameter = 3\n",
    "    def __init__(self, varx, vary, varz, operation):\n",
    "        super().__init__(varx, vary, varz, operation)\n",
    "        self.result = self.multiply_parameter()\n",
    "\n",
    "    def print_state(self):\n",
    "        print(self.result)\n",
    "\n",
    "class Child2(Parent):\n",
    "    base_parameter = 4\n",
    "    def __init__(self, varx, vary, varz, operation):\n",
    "        super().__init__(varx, vary, varz, operation)\n",
    "        self.result = self.multiply_parameter()\n",
    "\n",
    "    def print_state(self):\n",
    "        print(self.result)\n",
    "\n",
    "\n",
    "child1 = Child1(2, 2, 3, \"multiply\")\n",
    "child1.print_state()\n",
    "\n",
    "child1 = Child1(1, 2, 3, \"multiply\")\n",
    "child1.print_state()\n",
    "\n",
    "child2 = Child2(1, 2, 3, \"add\")\n",
    "child2.print_state()\n",
    "\n",
    "# you will fail if you try to create an instance of the parent class\n",
    "# e.g. parent = Parent(1, 2, 3, \"add\")\n",
    "# Can't instantiate abstract class Parent with abstract method print_state"
   ]
  },
  {
   "cell_type": "code",
   "execution_count": null,
   "metadata": {},
   "outputs": [],
   "source": []
  }
 ],
 "metadata": {
  "kernelspec": {
   "display_name": "base",
   "language": "python",
   "name": "python3"
  },
  "language_info": {
   "codemirror_mode": {
    "name": "ipython",
    "version": 3
   },
   "file_extension": ".py",
   "mimetype": "text/x-python",
   "name": "python",
   "nbconvert_exporter": "python",
   "pygments_lexer": "ipython3",
   "version": "3.9.12"
  }
 },
 "nbformat": 4,
 "nbformat_minor": 2
}
