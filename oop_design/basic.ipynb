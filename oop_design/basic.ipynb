{
 "cells": [
  {
   "cell_type": "markdown",
   "metadata": {},
   "source": [
    "### Some really basic OOP concepts\n",
    "\n",
    "#### (1) static method\n",
    "\n",
    "Static method doesn't involve with any class instance - simply a function attached to this class"
   ]
  },
  {
   "cell_type": "code",
   "execution_count": 1,
   "metadata": {},
   "outputs": [
    {
     "name": "stdout",
     "output_type": "stream",
     "text": [
      "random\n"
     ]
    }
   ],
   "source": [
    "class Test():\n",
    "    def __init__(self,par=1):\n",
    "        self.par = par\n",
    "    \n",
    "    @staticmethod\n",
    "    def print_random():\n",
    "        print(\"random\")\n",
    "\n",
    "\n",
    "Test.print_random()"
   ]
  },
  {
   "cell_type": "markdown",
   "metadata": {},
   "source": [
    "#### (2) Inheritance\n",
    "\n",
    "***Definition***\n",
    "* child class derives data & behaviour from parent class. The reason is to avoid redundancy definitions in different classes\n",
    "* parent class should be abastract and should not be initialized\n",
    "\n",
    "***Types***\n",
    "* Single inheritance: A-> B\n",
    "* multiple inheritance: (Fuel car, electric car) -> hybrid car. The class is derived from more than one base class (multiple parents)\n",
    "* multi-level inheritance: (A -> B -> C)\n",
    "* Hierarchical inheritance: (Hierarchical inheritance) -> fuel car and hybrid car are all vehicle. A parent have multiple children.\n",
    "* Hybrid inheritance: inherit from multiple classes\n",
    "\n"
   ]
  },
  {
   "cell_type": "markdown",
   "metadata": {},
   "source": [
    "1. example 1: Hierarchical inheritance using abstract class ABC"
   ]
  },
  {
   "cell_type": "code",
   "execution_count": 2,
   "metadata": {},
   "outputs": [
    {
     "name": "stdout",
     "output_type": "stream",
     "text": [
      "15\n",
      "9\n",
      "9\n",
      "8\n"
     ]
    }
   ],
   "source": [
    "from abc import ABC, abstractmethod\n",
    "\n",
    "# Correctly defining the abstract class using ABC\n",
    "class Parent(ABC):\n",
    "    base_parameter = 2\n",
    "\n",
    "    def __init__(self, varx, vary, varz, operation):\n",
    "        self.varx = varx\n",
    "        self.vary = vary\n",
    "        self.varz = varz\n",
    "        self.operation = operation\n",
    "\n",
    "    def multiply_parameter(self):\n",
    "        if self.operation == \"multiply\":\n",
    "            return self.varx * self.vary * self.varz + self.base_parameter\n",
    "        elif self.operation == \"add\":\n",
    "            return self.varx + self.vary + self.varz + self.base_parameter\n",
    "        else:\n",
    "            print(\"Operation not supported\")\n",
    "            return self.base_parameter\n",
    "\n",
    "    @abstractmethod\n",
    "    def print_state(self):\n",
    "        pass\n",
    "\n",
    "class Child1(Parent):\n",
    "    base_parameter = 3\n",
    "    def __init__(self, varx, vary, varz, operation):\n",
    "        super().__init__(varx, vary, varz, operation)\n",
    "        self.result = self.multiply_parameter()\n",
    "\n",
    "    def print_state(self):\n",
    "        print(self.result)\n",
    "\n",
    "class Child2(Parent):\n",
    "    base_parameter = 4\n",
    "    def __init__(self, varx, vary, varz, operation):\n",
    "        super().__init__(varx, vary, varz, operation)\n",
    "        self.result = self.multiply_parameter()\n",
    "\n",
    "    def print_state(self):\n",
    "        print(self.result)\n",
    "\n",
    "\n",
    "child1 = Child1(2, 2, 3, \"multiply\")\n",
    "child1.print_state()\n",
    "\n",
    "child1 = Child1(1, 2, 3, \"multiply\")\n",
    "child1.print_state()\n",
    "\n",
    "child1 = Child1(1, 2, 3, \"add\")\n",
    "child1.print_state()\n",
    "\n",
    "# child class can modify base parameter\n",
    "child2 = Child2(1, 2, 3, \"add\")\n",
    "child2.print_state()\n",
    "\n",
    "# you will fail if you try to create an instance of the parent class\n",
    "# e.g. parent = Parent(1, 2, 3, \"add\")\n",
    "# Can't instantiate abstract class Parent with abstract method print_state"
   ]
  },
  {
   "cell_type": "markdown",
   "metadata": {},
   "source": [
    "2. example (2) Multi-level inheritance\n",
    "\n",
    "    - Be careful about usage of \"super\" for initialization. super is generally used for single inheritance"
   ]
  },
  {
   "cell_type": "code",
   "execution_count": 16,
   "metadata": {},
   "outputs": [
    {
     "name": "stdout",
     "output_type": "stream",
     "text": [
      "\n",
      "The car is a Toyota Corolla\n",
      " and it runs on Petrol\n",
      "\n",
      "The car is a Tesla Model S\n",
      " and it runs on Lithium\n",
      "\n",
      "The car is a Toyota Corolla\n",
      " and it runs on Petrol\n",
      " and it also uses CNG\n",
      "\n",
      "The car is a Toyota Corolla\n",
      " and it runs on Petrol\n",
      "with battery Lithium\n"
     ]
    }
   ],
   "source": [
    "# base python class\n",
    "class Vehicle():\n",
    "    def __init__(self, name, model):\n",
    "        self.name = name\n",
    "        self.model = model\n",
    "\n",
    "    def get_name(self):\n",
    "        print(\"\\nThe car is a\", self.name, self.model, end=\"\")\n",
    "        print('')\n",
    "\n",
    "\n",
    "class FuelCar(Vehicle):\n",
    "    def __init__(self, name, model, combust_type):\n",
    "        self.combust_type = combust_type\n",
    "        Vehicle.__init__(self,name, model)\n",
    "\n",
    "    def get_fuel_type(self):\n",
    "        super().get_name()\n",
    "        print(\" and it runs on\", self.combust_type)\n",
    "\n",
    "# FuelCar is a child class of Vehicle\n",
    "fuelcar = FuelCar(\"Toyota\", \"Corolla\", \"Petrol\")\n",
    "fuelcar.get_fuel_type()\n",
    "\n",
    "# second child class \n",
    "class ElectricCar(Vehicle):\n",
    "    def __init__(self, name, model, battery_type):\n",
    "        self.battery_type = battery_type\n",
    "        Vehicle.__init__(self,name, model)\n",
    "\n",
    "    def get_electric_car(self):\n",
    "        super().get_name()\n",
    "        print(\" and it runs on\", self.battery_type)\n",
    "\n",
    "\n",
    "ElectricCar(\"Tesla\", \"Model S\", \"Lithium\").get_electric_car()\n",
    "\n",
    "\n",
    "# inheritance from fuelcar, grandchild class\n",
    "class GasCar(FuelCar):\n",
    "    def __init__(self, name, model, combust_type, gas_type):\n",
    "        self.gas_type = gas_type\n",
    "        FuelCar.__init__(self,name, model, combust_type)\n",
    "\n",
    "    def get_gas_type(self):\n",
    "        # it can trigger multiple parent class methods\n",
    "        super().get_fuel_type()\n",
    "        print(\" and it also uses\", self.gas_type)\n",
    "\n",
    "\n",
    "\n",
    "gascar = GasCar(\"Toyota\", \"Corolla\", \"Petrol\", \"CNG\")\n",
    "gascar.get_gas_type()\n",
    "\n",
    "\n",
    "# hybrid class \n",
    "class HybridCar(FuelCar, ElectricCar):\n",
    "    def __init__(self, name, model, combust_type, battery_type):\n",
    "        FuelCar.__init__(self, name, model, combust_type)\n",
    "        ElectricCar.__init__(self, name, model, battery_type)\n",
    "        self.battery_type = battery_type\n",
    "    def get_hybrid_car(self):\n",
    "        self.get_fuel_type()\n",
    "        print(f'with battery {self.battery_type}')\n",
    "\n",
    "HybridCar(\"Toyota\", \"Corolla\", \"Petrol\", \"Lithium\").get_hybrid_car()"
   ]
  },
  {
   "cell_type": "markdown",
   "metadata": {},
   "source": [
    "* But in most scenarios super can handle multi-inheritance quite well"
   ]
  },
  {
   "cell_type": "code",
   "execution_count": 20,
   "metadata": {},
   "outputs": [
    {
     "name": "stdout",
     "output_type": "stream",
     "text": [
      "A's __init__\n",
      "B's __init__\n",
      "--\n",
      "A's __init__\n",
      "C's __init__\n",
      "B's __init__\n",
      "D's __init__\n"
     ]
    },
    {
     "data": {
      "text/plain": [
       "<__main__.D at 0x7f40d2ac6ee0>"
      ]
     },
     "execution_count": 20,
     "metadata": {},
     "output_type": "execute_result"
    }
   ],
   "source": [
    "class A:\n",
    "    def __init__(self):\n",
    "        print(\"A's __init__\")\n",
    "\n",
    "class B(A):\n",
    "    def __init__(self):\n",
    "        super().__init__()\n",
    "        print(\"B's __init__\")\n",
    "\n",
    "class C(A):\n",
    "    def __init__(self):\n",
    "        super().__init__()\n",
    "        print(\"C's __init__\")\n",
    "\n",
    "class D(B, C):\n",
    "    def __init__(self):\n",
    "        super().__init__()\n",
    "        print(\"D's __init__\")\n",
    "B()\n",
    "print('--')\n",
    "D()"
   ]
  },
  {
   "cell_type": "markdown",
   "metadata": {},
   "source": [
    "#### (3) Polymorphism\n",
    "\n",
    "***Definition***\n",
    "\n",
    "1. can override method"
   ]
  },
  {
   "cell_type": "code",
   "execution_count": 20,
   "metadata": {},
   "outputs": [
    {
     "name": "stdout",
     "output_type": "stream",
     "text": [
      "I am from the Lion class\n",
      "I am from the Animal class\n"
     ]
    }
   ],
   "source": [
    "class Animal:\n",
    "  def __init__(self):\n",
    "    pass\n",
    "  \n",
    "  def print_animal(self):\n",
    "    print(\"I am from the Animal class\")\n",
    "\n",
    "  def print_animal_two(self):\n",
    "    print(\"I am from the Animal class\")\n",
    "\n",
    "\n",
    "class Lion(Animal):\n",
    "  \n",
    "  def print_animal(self): # method overriding\n",
    "    print(\"I am from the Lion class\")\n",
    "\n",
    "\n",
    "lion = Lion()\n",
    "lion.print_animal()\n",
    "lion.print_animal_two()"
   ]
  },
  {
   "cell_type": "markdown",
   "metadata": {},
   "source": [
    "2. Operator overloading\n",
    "\n",
    "Like tensorflow"
   ]
  },
  {
   "cell_type": "code",
   "execution_count": 21,
   "metadata": {},
   "outputs": [
    {
     "name": "stdout",
     "output_type": "stream",
     "text": [
      "( 13 + 11 i)\n"
     ]
    }
   ],
   "source": [
    "class ComplexNumber: \n",
    "    # Constructor\n",
    "    def __init__(self): \n",
    "        self.real = 0 \n",
    "        self.imaginary = 0 \n",
    "    # Set value function\n",
    "    def set_value(self, real, imaginary): \n",
    "        self.real = real\n",
    "        self.imaginary = imaginary \n",
    "    # Overloading function for + operator\n",
    "    def __add__(self, c): \n",
    "        result = ComplexNumber() \n",
    "        result.real = self.real + c.real \n",
    "        result.imaginary = self.imaginary + c.imaginary \n",
    "        return result \n",
    "    # display results\n",
    "    def display(self): \n",
    "        print( \"(\", self.real, \"+\", self.imaginary, \"i)\") \n",
    " \n",
    " \n",
    "c1 = ComplexNumber() \n",
    "c1.set_value(11, 5) \n",
    "c2 = ComplexNumber() \n",
    "c2.set_value(2, 6) \n",
    "c3 = ComplexNumber()\n",
    "c3 = c1 + c2\n",
    "c3.display() "
   ]
  },
  {
   "cell_type": "code",
   "execution_count": null,
   "metadata": {},
   "outputs": [],
   "source": []
  }
 ],
 "metadata": {
  "kernelspec": {
   "display_name": "base",
   "language": "python",
   "name": "python3"
  },
  "language_info": {
   "codemirror_mode": {
    "name": "ipython",
    "version": 3
   },
   "file_extension": ".py",
   "mimetype": "text/x-python",
   "name": "python",
   "nbconvert_exporter": "python",
   "pygments_lexer": "ipython3",
   "version": "3.9.12"
  }
 },
 "nbformat": 4,
 "nbformat_minor": 2
}
