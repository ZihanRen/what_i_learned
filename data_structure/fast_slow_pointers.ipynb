{
 "cells": [
  {
   "cell_type": "markdown",
   "metadata": {},
   "source": [
    "#### Fast and slow pointer\n",
    "About the pattern\n",
    "Similar to the two pointers pattern, the fast and slow pointers pattern uses two pointers to traverse an iterable data structure, but at different speeds, often to identify patterns, detect cycles, or find specific elements. The speeds of the two pointers can be adjusted according to the problem statement. Unlike the two pointers approach, which is concerned with data values, the fast and slow pointers approach is often used to determine specific pattern or structure in the data.\n",
    "\n",
    "The key idea is that the pointers start at the same location and then start moving at different speeds. Generally, the slow pointer moves forward by a factor of one, and the fast pointer moves by a factor of two. This approach enables the algorithm to detect patterns or properties within the data structure, such as cycles or intersections. If there is a cycle, the two are bound to meet at some point during the traversal. To understand the concept, think of two runners on a track. While they start from the same point, they have different running speeds. If the track is circular, the faster runner will overtake the slower one after completing a lap.\n",
    "\n",
    "#### Example\n",
    "\n",
    "Middle of the linked list: Given the head of a singly linked list, return the middle node of the linked list. One pointer moves at speed of 1 and other moves at speed of 2. When the second pointer reaches to the end, we get the middle value.\n",
    "\n",
    "\n",
    "#### Applications:\n",
    "\n",
    "Linear data structure: The input data can be traversed in a linear fashion, such as an array, linked list, or string.\n",
    "\n",
    "In addition, if either of these conditions is fulfilled:\n",
    "\n",
    "Cycle or intersection detection: The problem involves detecting a loop within a linked list or an array or involves finding an intersection between two linked lists or arrays.\n",
    "\n",
    "Find the starting element at the second quantile: The problem involves finding the starting element of the second quantile, i.e., second half, second tertile, second quartile, etc. For example, the problem asks to find the middle element of an array or a linked list.\n",
    "\n"
   ]
  },
  {
   "cell_type": "markdown",
   "metadata": {},
   "source": [
    "Write an algorithm to determine if a number n is a happy number.\n",
    "\n",
    "We use the following process to check if a given number is a happy number:\n",
    "\n",
    "Starting with the given number n, replace the number with the sum of the squares of its digits.\n",
    "Repeat the process until:\n",
    "The number equals 1, which will detect given number is happy number\n",
    "the number enters a cycle, which will depict that the given number n is not a happy number.\n",
    "Return TRUE if happy False if not"
   ]
  },
  {
   "cell_type": "code",
   "execution_count": 19,
   "metadata": {},
   "outputs": [],
   "source": [
    "# naive approach\n",
    "# time complexity - o(logn)\n",
    "# space complexity - o(logn)\n",
    "\n",
    "def sum_of_squared_digits(number): # Helper function that calculates the sum of squared digits.\n",
    "    total_sum = [int(x)**2 for x in str(number)]\n",
    "    return sum(total_sum)\n",
    "\n",
    "def is_happy_number(n):\n",
    "\n",
    "    list_digit_sum = [n]\n",
    "    \n",
    "    while n != 1:\n",
    "        n = sum_of_squared_digits(n)\n",
    "        if n in list_digit_sum:\n",
    "            return False\n",
    "        list_digit_sum.append(n)\n",
    "        \n",
    "    return True"
   ]
  },
  {
   "cell_type": "code",
   "execution_count": 20,
   "metadata": {},
   "outputs": [
    {
     "data": {
      "text/plain": [
       "True"
      ]
     },
     "execution_count": 20,
     "metadata": {},
     "output_type": "execute_result"
    }
   ],
   "source": [
    "is_happy_number(19) "
   ]
  },
  {
   "cell_type": "markdown",
   "metadata": {},
   "source": [
    "* better ones"
   ]
  },
  {
   "cell_type": "code",
   "execution_count": 24,
   "metadata": {},
   "outputs": [
    {
     "data": {
      "text/plain": [
       "True"
      ]
     },
     "execution_count": 24,
     "metadata": {},
     "output_type": "execute_result"
    }
   ],
   "source": [
    "# time complexity - o(logn)\n",
    "# space complexity - o(1)\n",
    "def is_happy_number(n):\n",
    "    slow, fast = n, n\n",
    "    while fast != 1 and slow != 1: # keep looping until we reach 1\n",
    "        slow = sum_of_squared_digits(slow)\n",
    "        fast = sum_of_squared_digits(sum_of_squared_digits(fast))\n",
    "        if slow == fast: # break the cycle if we find a cycle\n",
    "            return False\n",
    "    \n",
    "    return True\n",
    "\n",
    "is_happy_number(19)\n"
   ]
  },
  {
   "cell_type": "markdown",
   "metadata": {},
   "source": [
    "#### linked list\n",
    "\n",
    "instead of linearly allocating memory, linked list can dynamically allocate memory. e.g. [1,2,3] pointing to memory slots [[1,2,3,4],[5,6,7,8],[9,10,11,12]] now can be anywhere that is not connected: [100,101,102,103] ...\n",
    "\n",
    "* (1) representation\n",
    "[3,1,2,9] -> [3|1,1|2,2|9,9|None], where 3 is head and 9 is tail. each node contains data and next. The next is actually the pointer pointing to the next value 1. The 1 pointer is stored nearby 3. But pointing to anywhere.\n",
    "[A good explanation](https://www.udemy.com/course/data-structures-and-algorithms-masterclass/learn/lecture/22448294?start=0#overview)\n",
    "\n",
    "\n",
    "* (2) types\n",
    "\n",
    "(1) singly linked list\n",
    "\n",
    "(2)x    "
   ]
  },
  {
   "cell_type": "markdown",
   "metadata": {},
   "source": [
    "#### Question 2\n",
    "\n",
    "We are given a circular array of non-zero integers, nums, where each integer represents the number of steps to be taken either forward or backward from its current index. Positive values indicate forward movement, while negative values imply backward movement. When reaching either end of the array, the traversal wraps around to the opposite end.\n",
    "\n",
    "The input array may contain a cycle, which is a sequence of indexes characterized by the following:\n",
    "\n",
    "* The sequence starts and ends at the same index.\n",
    "* The length of the sequence is at least two.\n",
    "* The loop must be in a single direction, forward or backward."
   ]
  },
  {
   "cell_type": "code",
   "execution_count": null,
   "metadata": {},
   "outputs": [],
   "source": []
  }
 ],
 "metadata": {
  "language_info": {
   "name": "python"
  }
 },
 "nbformat": 4,
 "nbformat_minor": 2
}
