{
 "cells": [
  {
   "cell_type": "markdown",
   "metadata": {},
   "source": [
    "#### Fast and slow pointer\n",
    "About the pattern\n",
    "Similar to the two pointers pattern, the fast and slow pointers pattern uses two pointers to traverse an iterable data structure, but at different speeds, often to identify patterns, detect cycles, or find specific elements. The speeds of the two pointers can be adjusted according to the problem statement. Unlike the two pointers approach, which is concerned with data values, the fast and slow pointers approach is often used to determine specific pattern or structure in the data.\n",
    "\n",
    "The key idea is that the pointers start at the same location and then start moving at different speeds. Generally, the slow pointer moves forward by a factor of one, and the fast pointer moves by a factor of two. This approach enables the algorithm to detect patterns or properties within the data structure, such as cycles or intersections. If there is a cycle, the two are bound to meet at some point during the traversal. To understand the concept, think of two runners on a track. While they start from the same point, they have different running speeds. If the track is circular, the faster runner will overtake the slower one after completing a lap.\n",
    "\n",
    "#### Example\n",
    "\n",
    "Middle of the linked list: Given the head of a singly linked list, return the middle node of the linked list. One pointer moves at speed of 1 and other moves at speed of 2. When the second pointer reaches to the end, we get the middle value.\n",
    "\n",
    "\n",
    "#### Applications:\n",
    "\n",
    "Linear data structure: The input data can be traversed in a linear fashion, such as an array, linked list, or string.\n",
    "\n",
    "In addition, if either of these conditions is fulfilled:\n",
    "\n",
    "Cycle or intersection detection: The problem involves detecting a loop within a linked list or an array or involves finding an intersection between two linked lists or arrays.\n",
    "\n",
    "Find the starting element at the second quantile: The problem involves finding the starting element of the second quantile, i.e., second half, second tertile, second quartile, etc. For example, the problem asks to find the middle element of an array or a linked list.\n",
    "\n"
   ]
  },
  {
   "cell_type": "markdown",
   "metadata": {},
   "source": [
    "#### Question 1\n",
    "Write an algorithm to determine if a number n is a happy number.\n",
    "\n",
    "We use the following process to check if a given number is a happy number:\n",
    "\n",
    "Starting with the given number n, replace the number with the sum of the squares of its digits.\n",
    "Repeat the process until:\n",
    "The number equals 1, which will detect given number is happy number\n",
    "the number enters a cycle, which will depict that the given number n is not a happy number.\n",
    "Return TRUE if happy False if not"
   ]
  },
  {
   "cell_type": "code",
   "execution_count": 19,
   "metadata": {},
   "outputs": [],
   "source": [
    "# naive approach\n",
    "# time complexity - o(logn)\n",
    "# space complexity - o(logn)\n",
    "\n",
    "def sum_of_squared_digits(number): # Helper function that calculates the sum of squared digits.\n",
    "    total_sum = [int(x)**2 for x in str(number)]\n",
    "    return sum(total_sum)\n",
    "\n",
    "def is_happy_number(n):\n",
    "\n",
    "    list_digit_sum = [n]\n",
    "    \n",
    "    while n != 1:\n",
    "        n = sum_of_squared_digits(n)\n",
    "        if n in list_digit_sum:\n",
    "            return False\n",
    "        list_digit_sum.append(n)\n",
    "        \n",
    "    return True"
   ]
  },
  {
   "cell_type": "code",
   "execution_count": 20,
   "metadata": {},
   "outputs": [
    {
     "data": {
      "text/plain": [
       "True"
      ]
     },
     "execution_count": 20,
     "metadata": {},
     "output_type": "execute_result"
    }
   ],
   "source": [
    "is_happy_number(19) "
   ]
  },
  {
   "cell_type": "markdown",
   "metadata": {},
   "source": [
    "* better ones"
   ]
  },
  {
   "cell_type": "code",
   "execution_count": 24,
   "metadata": {},
   "outputs": [
    {
     "data": {
      "text/plain": [
       "True"
      ]
     },
     "execution_count": 24,
     "metadata": {},
     "output_type": "execute_result"
    }
   ],
   "source": [
    "# time complexity - o(logn)\n",
    "# space complexity - o(1)\n",
    "def is_happy_number(n):\n",
    "    slow, fast = n, n\n",
    "    while fast != 1 and slow != 1: # keep looping until we reach 1\n",
    "        slow = sum_of_squared_digits(slow)\n",
    "        fast = sum_of_squared_digits(sum_of_squared_digits(fast))\n",
    "        if slow == fast: # break the cycle if we find a cycle\n",
    "            return False\n",
    "    \n",
    "    return True\n",
    "\n",
    "is_happy_number(19)\n"
   ]
  },
  {
   "cell_type": "markdown",
   "metadata": {},
   "source": [
    "#### Question 2\n",
    "\n",
    "Check whether or not a linked list contains a cycle. If a cycle exists, return TRUE. Otherwise, return FALSE. The cycle means that at least one node can be reached again by traversing the next pointer."
   ]
  },
  {
   "cell_type": "markdown",
   "metadata": {},
   "source": [
    "#### Naive Solution\n",
    "\n",
    "* traversing the whole list to find cycle - time complexity O(n), space complexity O(n)"
   ]
  },
  {
   "cell_type": "code",
   "execution_count": null,
   "metadata": {},
   "outputs": [],
   "source": [
    "\n",
    "def detect_cycle(head):\n",
    "\n",
    "   node_list = []\n",
    "   # if there is cycle, next equal to previous head\n",
    "   current = head\n",
    "   idx = 0\n",
    "   while current:\n",
    "      if current in node_list:\n",
    "         return True\n",
    "      node_list.append(current)\n",
    "      current = current.next\n",
    "\n",
    "      if idx >= 500:\n",
    "         break\n",
    "      idx += 1\n",
    "   \n",
    "   return False"
   ]
  },
  {
   "cell_type": "markdown",
   "metadata": {},
   "source": [
    "#### Optimized approach\n",
    "\n",
    "see if fast can get slow: if they merge, there is a pattern. Slow moves one step and fast move two step"
   ]
  },
  {
   "cell_type": "code",
   "execution_count": 23,
   "metadata": {},
   "outputs": [
    {
     "name": "stdout",
     "output_type": "stream",
     "text": [
      "1\n",
      "2\n",
      "3\n"
     ]
    }
   ],
   "source": [
    "def detect_cycle(head):\n",
    "   if head is None:\n",
    "      return False\n",
    "   \n",
    "   slow = head\n",
    "   fast = head\n",
    "\n",
    "   while fast and fast.next: # as long as fast don't reach the end of list\n",
    "      slow = slow.next\n",
    "      fast = fast.next.next\n",
    "\n",
    "      if slow == fast:\n",
    "         return True\n",
    "   \n",
    "   return False"
   ]
  },
  {
   "cell_type": "code",
   "execution_count": null,
   "metadata": {},
   "outputs": [],
   "source": []
  }
 ],
 "metadata": {
  "kernelspec": {
   "display_name": "pnm-old",
   "language": "python",
   "name": "python3"
  },
  "language_info": {
   "codemirror_mode": {
    "name": "ipython",
    "version": 3
   },
   "file_extension": ".py",
   "mimetype": "text/x-python",
   "name": "python",
   "nbconvert_exporter": "python",
   "pygments_lexer": "ipython3",
   "version": "3.9.12"
  }
 },
 "nbformat": 4,
 "nbformat_minor": 2
}
