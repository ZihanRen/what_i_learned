{
 "cells": [
  {
   "cell_type": "markdown",
   "metadata": {},
   "source": [
    "#### Cyclic sort\n",
    "\n",
    "Imagine we have a classroom with numbered seats, and each student is given a card with a number corresponding to their seat number. To maintain classroom decorum and order, students are required to sit in their assigned seats. However, students have randomly taken seats, so the seating arrangement is all jumbled up. If we have to fix this, we start with the first seat, seat 1, and check if the student sitting here has the right card, i.e., the number 1. If not, we move the student to the seat corresponding to their card number. We repeat this process for each seat until every student is in their proper seat according to the number on their card. After completing this process for all seats, the students will be sitting in ascending order according to their seat numbers.\n",
    "\n",
    "The repeated swapping of students until they find their correct positions is nothing but the cyclic sort. It can be seen as the cycling of elements through the array until they settle into their proper places.\n",
    "\n",
    "Cyclic sort is a simple and efficient in-place sorting algorithm used for sorting arrays with integers in a specific range, most of the time \n",
    "[1 – n]\n",
    ". It places each element in its correct position by iteratively swapping it with the element at the position where it should be located. This process continues until all elements are in their proper places, resulting in a sorted array.\n",
    "\n",
    "But how do we know the correct position of any element? This is where the algorithm makes things even easier: the correct place of any element is simply the value of element - 1. For example, if we have the array \n",
    "[3,1,2]\n",
    ", then the correct position of the first element, $(3-1)^{th}$\n",
    " index, i.e., index \n",
    "2\n",
    " and not \n",
    "0\n",
    ". Similarly, the correct position for the elements \n",
    "1\n",
    " and \n",
    "2\n",
    " is index \n",
    "0\n",
    " and \n",
    "1, respectively.\n",
    "\n",
    "\n",
    "Is there a way to determine whether to use cyclic sort on a given unsorted array of integers? The answer is: Yes. We can identify cycles within the array, which are nothing but the subsequences of numbers that are not in sorted order. A cycle occurs when there’s an element that is out of place, and swapping it with the element at its correct position moves another element out of place, forming a cycle.\n",
    "\n"
   ]
  },
  {
   "cell_type": "markdown",
   "metadata": {},
   "source": [
    "Unlike algorithms with nested loops or recursive calls, cyclic sort achieves a linear time complexity of \n",
    "O(n)\n",
    "due to its streamlined approach of iteratively placing each element in its correct position within a single pass through the array. This makes it fast and reliable, especially for small arrays. Moreover, cyclic sort doesn’t require any extra space, as it sorts the elements in place."
   ]
  },
  {
   "cell_type": "markdown",
   "metadata": {},
   "source": [
    "#### Q1\n",
    "Given an array, nums, containing \n",
    "n\n",
    " distinct numbers in the range \n",
    "[0,n]\n",
    ", return the only number in the range that is missing from the array.\n",
    "\n",
    "**constraints**\n",
    "\n",
    "* n= nums.length\n",
    "* 0≤ nums[i] ≤n\n",
    "\n",
    "There are no duplicates in the array.\n",
    "\n",
    "if len(list) = 3, n = 3"
   ]
  },
  {
   "cell_type": "code",
   "execution_count": 1,
   "metadata": {},
   "outputs": [],
   "source": [
    "# brute force approach\n",
    "def find_missing_number(nums):\n",
    "    for i in range(len(nums)):\n",
    "        if i not in nums:\n",
    "            return i\n",
    "    "
   ]
  },
  {
   "cell_type": "code",
   "execution_count": 2,
   "metadata": {},
   "outputs": [],
   "source": [
    "# optimized approach using cyclic sort\n",
    "\n",
    "def find_missing_number(nums):\n",
    "    i = 0\n",
    "    while i < len(nums):\n",
    "        j = nums[i] \n",
    "        # if the number is not in the correct position\n",
    "        # if out of bound say nums[i] = 4, then j = 4, so j is out of bound - maximum of array\n",
    "        if j < len(nums) and nums[i] != nums[j]:\n",
    "            nums[i], nums[j] = nums[j], nums[i]\n",
    "        else:\n",
    "            i += 1\n",
    "    for i in range(len(nums)):\n",
    "        if i != nums[i]:\n",
    "            return i\n",
    "    return len(nums)"
   ]
  },
  {
   "cell_type": "markdown",
   "metadata": {},
   "source": [
    "#### Q2\n",
    "\n",
    "We are given an unsorted array, nums, with \n",
    "n\n",
    " elements and each element is in the range \n",
    "[1,n]\n",
    " inclusive. The array originally contained all the elements from \n",
    "1\n",
    " to \n",
    "n\n",
    " but due to a data error, one of the numbers is duplicated, which causes another number missing. Find and return the corrupt pair (missing, duplicated)."
   ]
  },
  {
   "cell_type": "code",
   "execution_count": 3,
   "metadata": {},
   "outputs": [],
   "source": [
    "def find_corrupt_pair(nums):\n",
    "    i = 0\n",
    "    duplicate = -1\n",
    "    missing = -1\n",
    "\n",
    "    while i < len(nums):\n",
    "\n",
    "        # get the correct indice of current number\n",
    "        j = nums[i] - 1\n",
    "\n",
    "        # check if swap the same number\n",
    "        if nums[i] != nums[j]:\n",
    "            nums[i], nums[j] = nums[j], nums[i]\n",
    "        else:\n",
    "            # if the number is already in the correct position\n",
    "            # and the number is the same, then we found the duplicate\n",
    "            # then simply move forward\n",
    "            if i != j:\n",
    "                duplicate = nums[i]\n",
    "            i += 1\n",
    "    \n",
    "    # find missing number\n",
    "    for i in range(len(nums)):\n",
    "        if i + 1 != nums[i]:\n",
    "            missing = i + 1\n",
    "            break\n",
    "    \n",
    "    return [missing, duplicate]\n"
   ]
  },
  {
   "cell_type": "code",
   "execution_count": null,
   "metadata": {},
   "outputs": [],
   "source": []
  }
 ],
 "metadata": {
  "kernelspec": {
   "display_name": "base",
   "language": "python",
   "name": "python3"
  },
  "language_info": {
   "codemirror_mode": {
    "name": "ipython",
    "version": 3
   },
   "file_extension": ".py",
   "mimetype": "text/x-python",
   "name": "python",
   "nbconvert_exporter": "python",
   "pygments_lexer": "ipython3",
   "version": "3.8.5"
  }
 },
 "nbformat": 4,
 "nbformat_minor": 2
}
