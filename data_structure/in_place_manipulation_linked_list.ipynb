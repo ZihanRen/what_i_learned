{
 "cells": [
  {
   "cell_type": "markdown",
   "metadata": {},
   "source": [
    "#### Introduction to In-Place Manipulation of a Linked List\n",
    "\n",
    "The in-place manipulation of a linked list pattern allows us to modify a linked list without using any additional memory. In-place refers to an algorithm that processes or modifies a data structure using only the existing memory space, without requiring additional memory proportional to the input size. This pattern is best suited for problems where we need to modify the structure of the linked list, i.e., the order in which nodes are linked together. For example, some problems require a reversal of a set of nodes in a linked list which can extend to reversing the whole linked list. Instead of making a new linked list with reversed links, we can do it in place without using additional memory.\n",
    "\n",
    "The naive approach to reverse a linked list is to traverse it and produce a new linked list with every link reversed. The time complexity of this algorithm is O(n) while consuming O(n) extra space. How can we implement the in-place reversal of nodes so that no extra space is used? We iterate over the linked list while keeping track of three nodes: the current node, the next node, and the previous node. Keeping track of these three nodes enables us to efficiently reverse the links between every pair of nodes. This in-place reversal of a linked list works in O(n)\n",
    " time and consumes only O(1) space.\n",
    "\n",
    "\n",
    "#### Real-world problems\n",
    "Many problems in the real world use the in-place manipulation of a linked list pattern. Let’s look at some examples.\n",
    "\n",
    "File system management: File systems often use linked lists to manage directories and files. Operations such as rearranging files within a directory can be implemented by manipulating the underlying linked list in place.\n",
    "\n",
    "Memory management: In low-level programming or embedded systems, dynamic memory allocation and deallocation often involve manipulating linked lists of free memory blocks. Operations such as merging adjacent free blocks or splitting large blocks can be implemented in place to optimize memory usage."
   ]
  },
  {
   "cell_type": "markdown",
   "metadata": {},
   "source": [
    "#### Q1:\n",
    "Given the head of a singly linked list, reverse the linked list and return its updated head.\n",
    "\n",
    "e.g.\n",
    "\n",
    "input: 1->2->3, output: 3->2->1"
   ]
  },
  {
   "cell_type": "code",
   "execution_count": 2,
   "metadata": {},
   "outputs": [],
   "source": [
    "class LinkedListNode:\n",
    "    # __init__ will be used to make a LinkedListNode type object.\n",
    "    def __init__(self, data, next=None):\n",
    "        self.data = data\n",
    "        self.next = next\n",
    "\n",
    "\n",
    "\n",
    "# Template for the linked list\n",
    "class LinkedList:\n",
    "    # __init__ will be used to make a LinkedList type object.\n",
    "    def __init__(self):\n",
    "        self.head = None\n",
    "    \n",
    "    # insert_node_at_head method will insert a LinkedListNode at \n",
    "    # head of a linked list.\n",
    "    def insert_node_at_head(self, node):\n",
    "        if self.head:\n",
    "            node.next = self.head\n",
    "            self.head = node\n",
    "        else:\n",
    "            self.head = node\n",
    "    \n",
    "    # create_linked_list method will create the linked list using the\n",
    "    # given integer array with the help of InsertAthead method. \n",
    "    def create_linked_list(self, lst):\n",
    "        for x in reversed(lst):\n",
    "            new_node = LinkedListNode(x)\n",
    "            self.insert_node_at_head(new_node)\n",
    "    \n",
    "    # __str__(self) method will display the elements of linked list.\n",
    "    def __str__(self):\n",
    "        result = \"\"\n",
    "        temp = self.head\n",
    "        while temp:\n",
    "            result += str(temp.data)\n",
    "            temp = temp.next\n",
    "            if temp:\n",
    "                result += \", \"\n",
    "        result += \"\"\n",
    "        return result \n"
   ]
  },
  {
   "cell_type": "markdown",
   "metadata": {},
   "source": [
    "* naive approach: space complexity O(n)"
   ]
  },
  {
   "cell_type": "code",
   "execution_count": null,
   "metadata": {},
   "outputs": [],
   "source": [
    "import LinkedList\n",
    "import LinkedListNode\n",
    "            \n",
    "def reverse(head):\n",
    "\n",
    "    # brute force\n",
    "    reverse_list = []\n",
    "\n",
    "    current_head = head\n",
    "    while current_head:\n",
    "        reverse_list.insert(0,current_head.data)\n",
    "        current_head = current_head.next\n",
    "    \n",
    "    obj = LinkedList()\n",
    "    obj.create_linked_list(reverse_list)\n",
    "\n",
    "    \n",
    "    return obj.head"
   ]
  },
  {
   "cell_type": "markdown",
   "metadata": {},
   "source": [
    "* optimzied approach\n",
    "\n",
    "you only need to change the link between node - reverse the arrow\n",
    "\n",
    "O(n), O(1)"
   ]
  },
  {
   "cell_type": "code",
   "execution_count": null,
   "metadata": {},
   "outputs": [],
   "source": [
    "def reverse(head):\n",
    "    prev, next = None, None\n",
    "    curr = head\n",
    "    \n",
    "    while curr:\n",
    "        # save next node\n",
    "        next = curr.next\n",
    "        # pointing current head to None\n",
    "        curr.next = prev # replace None with current 1 -> 1\n",
    "        prev = curr \n",
    "        curr = next # replace current with future node: 1 <- 2 -> 3 -> 4\n",
    "    \n",
    "    head = prev\n",
    "    return head"
   ]
  },
  {
   "cell_type": "markdown",
   "metadata": {},
   "source": [
    "#### Q2\n",
    "\n",
    "The task is to reverse the nodes in groups of 𝑘 in a given linked list, where 𝑘 is a positive integer, and at most the length of the linked list. If any remaining nodes are not part of a group of k, they should remain in their original order."
   ]
  },
  {
   "cell_type": "markdown",
   "metadata": {},
   "source": [
    "The optimized approach is to use less space in memory. We actually need to reverse each group of \n",
    "𝑘\n",
    " nodes in place. We can think of each \n",
    "𝑘\n",
    "-group of nodes as a separate linked list. For each of these linked lists, applying an in-place linked list manipulation solves the original problem. We need to invoke the in-place reversal of linked list code \n",
    "⌈\n",
    "𝑛\n",
    "/\n",
    "𝑘\n",
    "⌉\n",
    "⌈n/k⌉\n",
    " times, where \n",
    "𝑛\n",
    "n\n",
    " is the size of the linked list."
   ]
  },
  {
   "cell_type": "code",
   "execution_count": null,
   "metadata": {},
   "outputs": [],
   "source": [
    "# reverse a linked list in groups of k\n",
    "def reverse_linked_list(head, k):\n",
    "     \n",
    "    previous, current, next = None, head, None\n",
    "    for _ in range(k):\n",
    "        # temporarily store the next node\n",
    "        next = current.next\n",
    "        # reverse the current node\n",
    "        current.next = previous\n",
    "        # before we move to the next node, point previous to the\n",
    "        # current node\n",
    "        previous = current\n",
    "        # move to the next node \n",
    "        current = next\n",
    "    # current = future\n",
    "    # previous is the head of reversed node\n",
    "    # they are not supposed to be connected\n",
    "    return previous, current\n",
    "\n",
    "\n",
    "def reverse_k_groups(head, k):\n",
    "\n",
    "    #  Create a dummy node and set its next pointer to the head\n",
    "    dummy = LinkedListNode(0)\n",
    "    dummy.next = head # head is the original linked list\n",
    "    ptr = dummy\n",
    " \n",
    "    while(ptr != None):\n",
    "\n",
    "        print(\"\\tIdentifying a group of\", k, \"nodes:\")\n",
    "        print(\"\\t\\tptr:\", ptr.data)\n",
    "\n",
    "        # Keep track of the current position\n",
    "        tracker = ptr\n",
    "\n",
    "        print(\"\\t\\tCurrent group: \", end = \"\")\n",
    "\n",
    "        # Traverse k nodes to check if there are enough nodes to reverse\n",
    "        for i in range(k):\n",
    "\n",
    "            # If there are not enough nodes to reverse, break out of the loop\n",
    "            if tracker == None:\n",
    "                break\n",
    "       \n",
    "            tracker = tracker.next\n",
    "            print(tracker.data, end = \" \") if tracker else print(\"\", end = \"\")\n",
    "\n",
    "        if tracker == None: # if None, break while loop and return nodes\n",
    "            print(\"\\n\\t\\tThe above group contains less than\", k, \"nodes, so we can't reverse it.\\n\")\n",
    "            print(\"\\tFinal state of the linked list: \", end = \"\")\n",
    "            break\n",
    "    \n",
    "        # Reverse the current group of k nodes - if no break happens\n",
    "        print(\"\\n\\t\\tThe above group of\",k,\"nodes can be reversed.\\n\")\n",
    "        print(\"\\tReversing the current group of\", k, \"nodes:\")\n",
    "        # now previous is the new head\n",
    "        previous, current = reverse_linked_list(ptr.next, k)\n",
    "        print(\"\\t\\tReversed group: \", end = \"\")\n",
    "\n",
    "        # Connect the reversed group to the rest of the linked list\n",
    "        print(\"\\n\\n\\tRe-attatching the reversed group to the rest of the linked list:\")\n",
    "            # append previous list to new head\n",
    "\n",
    "        last_node_of_reversed_group = ptr.next \n",
    "        last_node_of_reversed_group.next = current # connect last node to the future node\n",
    "                # original, ptr pointing to previous last node\n",
    "        # now ptr needs to point to new start\n",
    "        ptr.next = previous # connect new head (previous) to history node (ptr.next)\n",
    "        # update ptr to new node\n",
    "        ptr = last_node_of_reversed_group\n",
    "    \n",
    "    return dummy.next"
   ]
  },
  {
   "cell_type": "code",
   "execution_count": 9,
   "metadata": {},
   "outputs": [
    {
     "data": {
      "text/plain": [
       "3"
      ]
     },
     "execution_count": 9,
     "metadata": {},
     "output_type": "execute_result"
    }
   ],
   "source": [
    "# a little bit complex\n",
    "dummy = LinkedListNode(0)\n",
    "dummy.next = LinkedListNode(2) # head is the original linked list\n",
    "ptr = dummy\n",
    "ptr.next = LinkedListNode(3)\n",
    "dummy.next.data"
   ]
  },
  {
   "cell_type": "markdown",
   "metadata": {},
   "source": [
    "The task is to reverse the nodes in groups of 𝑘 in a given linked list, where 𝑘 is a positive integer, and at most the length of the linked list. If any remaining nodes are not part of a group of k, they should remain in their original order."
   ]
  },
  {
   "cell_type": "markdown",
   "metadata": {},
   "source": [
    "#### universial reversal function"
   ]
  },
  {
   "cell_type": "code",
   "execution_count": null,
   "metadata": {},
   "outputs": [],
   "source": [
    "def reversed_linked_list(head,k):\n",
    "    # initialize curr, prev, etc.\n",
    "    prev,curr,nxt = None,head,None\n",
    "    for _ in range(k):\n",
    "        # firstly you need to point to prev\n",
    "        nxt = curr.next\n",
    "        curr.next = prev\n",
    "        # set up current as prev and move current idx to the next\n",
    "        prev = curr\n",
    "        curr = nxt\n",
    "    return prev,curr\n"
   ]
  },
  {
   "cell_type": "markdown",
   "metadata": {},
   "source": []
  }
 ],
 "metadata": {
  "kernelspec": {
   "display_name": "pnm-old",
   "language": "python",
   "name": "python3"
  },
  "language_info": {
   "codemirror_mode": {
    "name": "ipython",
    "version": 3
   },
   "file_extension": ".py",
   "mimetype": "text/x-python",
   "name": "python",
   "nbconvert_exporter": "python",
   "pygments_lexer": "ipython3",
   "version": "3.9.12"
  }
 },
 "nbformat": 4,
 "nbformat_minor": 2
}
