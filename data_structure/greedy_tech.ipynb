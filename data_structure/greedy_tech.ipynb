{
 "cells": [
  {
   "cell_type": "markdown",
   "metadata": {},
   "source": [
    "#### Greedy techniques\n",
    "\n",
    "An algorithm is a series of steps used to solve a problem and reach a solution. In the world of problem-solving, there are various types of problem-solving algorithms designed for specific types of challenges. Among these, greedy algorithms are an approach for tackling optimization problems where we aim to find the best solution under given constraints.\n",
    "\n",
    "Imagine being at a buffet, and we want to fill the plate with the most satisfying combination of dishes available, but there’s a catch: we can only make our choice one dish at a time, and once we move past a dish, we can’t go back to pick it up. In this scenario, a greedy approach would be to always choose the dish that looks most appealing to us at each step, hoping that we end up with the best possible meal.\n",
    "\n",
    "Greedy is an algorithmic paradigm that builds up a solution piece by piece. It makes a series of choices, each time picking the option that seems best at the moment, the most greedy choice, with the goal of finding an overall optimal solution. They don’t worry about the future implications of these choices and focus only on maximizing immediate benefits. This means it chooses the next piece that offers the most obvious and immediate benefit. A greedy algorithm, as the name implies, always makes the choice that seems to be the best at the time. It makes a locally-optimal choice in the hope that it will lead to a globally optimal solution. In other words, greedy algorithms are used to solve optimization problems.\n",
    "\n",
    "\n",
    "Greedy algorithms work by constructing a solution from the smallest possible constituent parts. However, it’s important to understand that these algorithms might not always lead us to the best solution for every problem. This is because, by always opting for the immediate benefit, we might miss out on better options available down the line. Imagine if, after picking the most appealing dishes, we realize we’ve filled our plate too soon and missed out on our favorite dish at the end of the buffet. That’s a bit like a greedy algorithm getting stuck in what’s called a local optimal solution without finding the global optimal solution or the best possible overall solution.\n",
    "\n",
    "\n",
    "However, let’s keep in mind that for many problems, especially those with a specific structure, greedy algorithms work wonderfully. One classic example where greedy algorithms shine is in organizing networks, like connecting computers with the least amount of cable. Prim’s algorithm, for instance, is a greedy method that efficiently finds the minimum amount of cable needed to connect all computers in a network.\n",
    "\n",
    "\n",
    "\n",
    "Yes, if both of these conditions are fulfilled:\n",
    "\n",
    "1. Optimization problem: The problem is an optimization problem, where we are looking to find the best solution under a given set of constraints. This could involve minimizing or maximizing some value, such as cost, distance, time, or profit.\n",
    "\n",
    "2. Making local choices leads to a global solution: The problem can be solved by making simple decisions based on the current option or state without needing to look ahead or consider many future possibilities.\n",
    "\n",
    "\n",
    "No, if any of these conditions is fulfilled:\n",
    "\n",
    "1. Local choices lead to sub-optimal solutions: Our analysis shows that making local greedy choices leads us to a sub-optimal solution.\n",
    "2. Problem lacks clear local optima: If the problem doesn’t naturally break down into a series of choices where we can identify the best option at each step, a greedy algorithm might not be applicable.\n"
   ]
  },
  {
   "cell_type": "markdown",
   "metadata": {},
   "source": [
    "#### Q1\n",
    "\n",
    "In a single-player jump game, the player starts at one end of a series of squares, with the goal of reaching the last square.\n",
    "\n",
    "At each turn, the player can take up to \n",
    "s\n",
    " steps towards the last square, where \n",
    "s\n",
    " is the value of the current square.\n",
    "\n",
    "For example, if the value of the current square is \n",
    "3\n",
    ", the player can take either \n",
    "3\n",
    " steps, or \n",
    "2\n",
    " steps, or \n",
    "1\n",
    " step in the direction of the last square. The player cannot move in the opposite direction, that is, away from the last square.\n",
    "\n",
    "You have been tasked with writing a function to validate whether a player can win a given game or not.\n",
    "\n",
    "You’ve been provided with the nums integer array, representing the series of squares. The player starts at the first index and, following the rules of the game, tries to reach the last index.\n",
    "\n",
    "If the player can reach the last index, your function returns TRUE; otherwise, it returns FALSE.\n"
   ]
  },
  {
   "cell_type": "code",
   "execution_count": 2,
   "metadata": {},
   "outputs": [
    {
     "name": "stdout",
     "output_type": "stream",
     "text": [
      "1.\tInput array: [3, 2, 2, 0, 1, 4]\n",
      "\tCan we reach the very last index? True\n",
      "----------------------------------------------------------------------------------------------------\n",
      "2.\tInput array: [2, 3, 1, 1, 9]\n",
      "\tCan we reach the very last index? True\n",
      "----------------------------------------------------------------------------------------------------\n",
      "3.\tInput array: [3, 2, 1, 0, 4]\n",
      "\tCan we reach the very last index? False\n",
      "----------------------------------------------------------------------------------------------------\n",
      "4.\tInput array: [0]\n",
      "\tCan we reach the very last index? True\n",
      "----------------------------------------------------------------------------------------------------\n",
      "5.\tInput array: [1]\n",
      "\tCan we reach the very last index? True\n",
      "----------------------------------------------------------------------------------------------------\n",
      "6.\tInput array: [4, 3, 2, 1, 0]\n",
      "\tCan we reach the very last index? True\n",
      "----------------------------------------------------------------------------------------------------\n",
      "7.\tInput array: [1, 1, 1, 1, 1]\n",
      "\tCan we reach the very last index? True\n",
      "----------------------------------------------------------------------------------------------------\n",
      "8.\tInput array: [4, 0, 0, 0, 1]\n",
      "\tCan we reach the very last index? True\n",
      "----------------------------------------------------------------------------------------------------\n",
      "9.\tInput array: [3, 3, 3, 3, 3]\n",
      "\tCan we reach the very last index? True\n",
      "----------------------------------------------------------------------------------------------------\n",
      "10.\tInput array: [1, 2, 3, 4, 5, 6, 7]\n",
      "\tCan we reach the very last index? True\n",
      "----------------------------------------------------------------------------------------------------\n"
     ]
    }
   ],
   "source": [
    "# During each iteration, the function checks if the current index i plus the maximum jump length at that index (nums[i]) is greater than or equal to target_num_index.\n",
    "# If this condition is true, it means you can jump from index i to target_num_index (or beyond): since this channel is connected. Therefore, target_num_index is updated to i. This step is greedy because it assumes the best choice at each step without considering the overall sequence.\n",
    "\n",
    "\n",
    "\n",
    "def jump_game(nums):\n",
    "    target_num_index = len(nums) - 1\n",
    "    for i in range(len(nums) - 2, -1, -1):\n",
    "        if target_num_index <= i + nums[i]:\n",
    "            target_num_index = i\n",
    "\n",
    "    if target_num_index == 0:\n",
    "        return True\n",
    "    return False\n",
    "\n",
    "\n",
    "def main():\n",
    "    nums = [\n",
    "        [3, 2, 2, 0, 1, 4],\n",
    "        [2, 3, 1, 1, 9],\n",
    "        [3, 2, 1, 0, 4],\n",
    "        [0],\n",
    "        [1],\n",
    "        [4, 3, 2, 1, 0],\n",
    "        [1, 1, 1, 1, 1],\n",
    "        [4, 0, 0, 0, 1],\n",
    "        [3, 3, 3, 3, 3],\n",
    "        [1, 2, 3, 4, 5, 6, 7]\n",
    "    ]\n",
    "\n",
    "    for i in range(len(nums)):\n",
    "        print(i + 1, \".\\tInput array: \", nums[i], sep=\"\")\n",
    "        print(\"\\tCan we reach the very last index? \",\n",
    "              \"True\" if jump_game(nums[i]) else \"False\", sep=\"\")\n",
    "        print(\"-\" * 100)\n",
    "\n",
    "if __name__ == '__main__':\n",
    "    main()\n"
   ]
  },
  {
   "cell_type": "code",
   "execution_count": 3,
   "metadata": {},
   "outputs": [
    {
     "name": "stdout",
     "output_type": "stream",
     "text": [
      "8 7 6 5 4 3 2 1 0 "
     ]
    }
   ],
   "source": [
    "for i in range(10-2, -1,-1):\n",
    "    print(i, end=\" \")"
   ]
  },
  {
   "cell_type": "code",
   "execution_count": null,
   "metadata": {},
   "outputs": [],
   "source": []
  }
 ],
 "metadata": {
  "kernelspec": {
   "display_name": "base",
   "language": "python",
   "name": "python3"
  },
  "language_info": {
   "codemirror_mode": {
    "name": "ipython",
    "version": 3
   },
   "file_extension": ".py",
   "mimetype": "text/x-python",
   "name": "python",
   "nbconvert_exporter": "python",
   "pygments_lexer": "ipython3",
   "version": "3.8.5"
  }
 },
 "nbformat": 4,
 "nbformat_minor": 2
}
