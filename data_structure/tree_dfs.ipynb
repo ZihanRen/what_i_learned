{
 "cells": [
  {
   "cell_type": "markdown",
   "metadata": {},
   "source": [
    "#### Some depth first search coding problems"
   ]
  },
  {
   "cell_type": "markdown",
   "metadata": {},
   "source": [
    "#### Q: Given the root of a binary tree, return the maximum sum of any non-empty path.\n",
    "\n",
    "A path in a binary tree is defined as follows:\n",
    "\n",
    "* A sequence of nodes in which each pair of adjacent nodes must have an edge connecting them.\n",
    "* A node can only be included in a path once at most. Including the root in the path is not compulsory."
   ]
  },
  {
   "cell_type": "code",
   "execution_count": null,
   "metadata": {},
   "outputs": [],
   "source": [
    "# define tree node\n",
    "\n",
    "class TreeNode:\n",
    "    def __init__(self, x):\n",
    "        self.val = x\n",
    "        self.left = None\n",
    "        self.right = None\n",
    "\n",
    "\n",
    "current_max = float('-inf')\n",
    "\n",
    "\n",
    "# max_cal function to find maximum path sum under current root\n",
    "def max_cal_root(root):\n",
    "    if not root:\n",
    "        return 0\n",
    "\n",
    "    # traverse left and right subtree\n",
    "    max_left = max_cal_root(root.left)\n",
    "    max_right = max_cal_root(root.right)\n",
    "\n",
    "    # need to make sure if they are positive or not\n",
    "    left_tree = max(max_left, 0)\n",
    "    right_tree = max(max_right, 0)\n",
    "\n",
    "    # calculate the maximum path sum under current root\n",
    "    val_path = root.val + left_tree + right_tree\n",
    "\n",
    "    # update current_max \n",
    "    global current_max\n",
    "    current_max = max(current_max, val_path)\n",
    "\n",
    "    # return the maximum path sum under current root\n",
    "    # need to make sure pick up the max subtree since \n",
    "    # we can only pick one subtree for one path\n",
    "    current_max_root = root.val + max(left_tree, right_tree)\n",
    "\n",
    "    return current_max_root\n",
    "\n",
    "\n",
    "\n",
    "def maxPathSum(root):\n",
    "    max_cal_root(root)\n",
    "    return current_max\n",
    "\n",
    "\n",
    "\n"
   ]
  },
  {
   "cell_type": "markdown",
   "metadata": {},
   "source": [
    "#### Q2\n",
    "Given a binary tree, you need to compute the length of the tree’s diameter. The diameter of a binary tree is the length of the longest path between any two nodes in a tree. This path may or may not pass through the root.\n",
    "\n"
   ]
  },
  {
   "cell_type": "code",
   "execution_count": null,
   "metadata": {},
   "outputs": [],
   "source": [
    "# simply a traverse problem\n",
    "\n",
    "max_depth = 0\n",
    "\n",
    "def diameter_of_tree(root):\n",
    "\n",
    "    if not root:\n",
    "        return 0\n",
    "    \n",
    "    left_depth = diameter_of_tree(root.left)\n",
    "    right_depth = diameter_of_tree(root.right)\n",
    "\n",
    "    total_depth = left_depth + right_depth\n",
    "    global max_depth\n",
    "    max_depth = max(max_depth, total_depth)\n",
    "\n",
    "    return max(left_depth, right_depth) + 1\n",
    "\n",
    "\n",
    "\n"
   ]
  },
  {
   "cell_type": "markdown",
   "metadata": {},
   "source": []
  }
 ],
 "metadata": {
  "kernelspec": {
   "display_name": "pnm-old",
   "language": "python",
   "name": "python3"
  },
  "language_info": {
   "name": "python",
   "version": "3.9.12"
  }
 },
 "nbformat": 4,
 "nbformat_minor": 2
}
