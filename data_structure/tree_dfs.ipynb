{
 "cells": [
  {
   "cell_type": "markdown",
   "metadata": {},
   "source": [
    "## Tree Depth First \n",
    "#### 1 pattern intro\n",
    "\n",
    "A tree is a graph that contains the following properties:\n",
    "\n",
    "* It is undirected - edges do not have specific direction\n",
    "\n",
    "* It is acyclic - graph without cycle\n",
    "\n",
    "* It is a connected graph where any two vertices are connected by exactly one path.\n",
    "\n",
    "* Its nodes can contain values of any data type.\n",
    "\n",
    "\n",
    "The time complexity for search and insert operations in trees is typically \n",
    "O(logn)\n",
    ", where \n",
    "n\n",
    " is the number of elements in the tree. In contrast, the time complexity for search and insert operations in arrays and linked lists can be \n",
    "O(n)\n",
    ", where \n",
    "n\n",
    " is the number of elements in the array or list."
   ]
  },
  {
   "cell_type": "code",
   "execution_count": null,
   "metadata": {},
   "outputs": [],
   "source": []
  }
 ],
 "metadata": {
  "kernelspec": {
   "display_name": "base",
   "language": "python",
   "name": "python3"
  },
  "language_info": {
   "name": "python",
   "version": "3.8.-1"
  }
 },
 "nbformat": 4,
 "nbformat_minor": 2
}
