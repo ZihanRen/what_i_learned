{
 "cells": [
  {
   "cell_type": "markdown",
   "metadata": {},
   "source": [
    "TreeMap (SortedDict) is an ordered data structure that:\n",
    "\n",
    "Maintains keys in sorted order automatically\n",
    "\n",
    "Provides O(log n) time complexity for insertions, deletions, and lookups\n",
    "\n",
    "Supports efficient range queries and finding closest keys"
   ]
  },
  {
   "cell_type": "code",
   "execution_count": 2,
   "metadata": {},
   "outputs": [],
   "source": [
    "from sortedcontainers import SortedDict\n",
    "tree_map = SortedDict()\n",
    "tree_map['d'] = 4\n",
    "tree_map['b'] = 2\n",
    "tree_map['a'] = 1\n",
    "tree_map['c'] = 3\n"
   ]
  },
  {
   "cell_type": "code",
   "execution_count": 3,
   "metadata": {},
   "outputs": [
    {
     "data": {
      "text/plain": [
       "SortedDict({'a': 1, 'b': 2, 'c': 3, 'd': 4})"
      ]
     },
     "execution_count": 3,
     "metadata": {},
     "output_type": "execute_result"
    }
   ],
   "source": [
    "tree_map"
   ]
  },
  {
   "cell_type": "code",
   "execution_count": null,
   "metadata": {},
   "outputs": [],
   "source": []
  }
 ],
 "metadata": {
  "kernelspec": {
   "display_name": "mlops",
   "language": "python",
   "name": "python3"
  },
  "language_info": {
   "codemirror_mode": {
    "name": "ipython",
    "version": 3
   },
   "file_extension": ".py",
   "mimetype": "text/x-python",
   "name": "python",
   "nbconvert_exporter": "python",
   "pygments_lexer": "ipython3",
   "version": "3.8.5"
  }
 },
 "nbformat": 4,
 "nbformat_minor": 2
}
