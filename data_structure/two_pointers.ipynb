{
 "cells": [
  {
   "cell_type": "markdown",
   "metadata": {},
   "source": [
    "### Two pointers\n",
    "The two pointers pattern is a versatile technique used in problem-solving to efficiently traverse or manipulate sequential data structures, such as arrays or linked lists. As the name suggests, it involves maintaining two pointers that traverse the data structure in a coordinated manner, typically starting from different positions or moving in opposite directions. These pointers dynamically adjust based on specific conditions or criteria, allowing for the efficient exploration of the data and enabling solutions with optimal time and space complexity. Whenever there’s a requirement to find two data elements in an array that satisfy a certain condition, the two pointers pattern should be the first strategy to come to mind.\n",
    "\n",
    "The pointers can be used to iterate through the data structure in one or both directions, depending on the problem statement. For example, to identify whether a string is a palindrome, we can use one pointer to iterate the string from the beginning and the other to iterate it from the end. At each step, we can compare the values of the two pointers and see if they meet the palindrome properties."
   ]
  },
  {
   "cell_type": "markdown",
   "metadata": {},
   "source": [
    "why? O($n^2$) - > O(n)\n",
    "\n",
    "#### Applications:\n",
    "* reversing arrays\n",
    "* Pair with given sum in a sorted array: Given a sorted array of integers, find a pair in the array that sums to a number T.\n",
    "\n",
    "Many problems in the real world use the two pointers pattern. Let’s look at an example.\n",
    "\n",
    "Memory management: The two pointers pattern is vital in memory allocation and deallocation. The memory pool is initialized with two pointers: the start pointer, pointing to the beginning of the available memory block, and the end pointer, indicating the end of the block. When a process or data structure requests memory allocation, the start pointer is moved forward, designating a new memory block for allocation. Conversely, when memory is released (deallocated), the start pointer is shifted backward, marking the deallocated memory as available for future allocations.\n",
    "\n",
    "\n"
   ]
  },
  {
   "cell_type": "markdown",
   "metadata": {},
   "source": [
    "#### Question\n",
    "Write a function that takes a string, s, as an input and determines whether or not it is a palindrome.\n",
    "\n",
    "Note: A palindrome is a word, phrase, or sequence of characters that reads the same backward as forward.\n",
    "The string s will contain English uppercase and lowercase letters, digits, and spaces.\n"
   ]
  },
  {
   "cell_type": "code",
   "execution_count": 1,
   "metadata": {},
   "outputs": [
    {
     "name": "stdout",
     "output_type": "stream",
     "text": [
      "Test Case # 1\n",
      "----------------------------------------------------------------------------------------------------\n",
      "The input string is 'RACEACAR' and the length of the string is 8.\n",
      "Is it a palindrome?..... False\n",
      "----------------------------------------------------------------------------------------------------\n",
      "Test Case # 2\n",
      "----------------------------------------------------------------------------------------------------\n",
      "The input string is 'A' and the length of the string is 1.\n",
      "Is it a palindrome?..... True\n",
      "----------------------------------------------------------------------------------------------------\n",
      "Test Case # 3\n",
      "----------------------------------------------------------------------------------------------------\n",
      "The input string is 'ABCDEFGFEDCBA' and the length of the string is 13.\n",
      "Is it a palindrome?..... True\n",
      "----------------------------------------------------------------------------------------------------\n",
      "Test Case # 4\n",
      "----------------------------------------------------------------------------------------------------\n",
      "The input string is 'ABC' and the length of the string is 3.\n",
      "Is it a palindrome?..... False\n",
      "----------------------------------------------------------------------------------------------------\n",
      "Test Case # 5\n",
      "----------------------------------------------------------------------------------------------------\n",
      "The input string is 'ABCBA' and the length of the string is 5.\n",
      "Is it a palindrome?..... True\n",
      "----------------------------------------------------------------------------------------------------\n",
      "Test Case # 6\n",
      "----------------------------------------------------------------------------------------------------\n",
      "The input string is 'ABBA' and the length of the string is 4.\n",
      "Is it a palindrome?..... True\n",
      "----------------------------------------------------------------------------------------------------\n",
      "Test Case # 7\n",
      "----------------------------------------------------------------------------------------------------\n",
      "The input string is 'RACEACAR' and the length of the string is 8.\n",
      "Is it a palindrome?..... False\n",
      "----------------------------------------------------------------------------------------------------\n"
     ]
    }
   ],
   "source": [
    "def is_palindrome(s):\n",
    "    left = 0\n",
    "    right = len(s) - 1\n",
    "    while left < right:\n",
    "        if s[left] != s[right]:\n",
    "            return False\n",
    "        left = left + 1 \n",
    "        right = right - 1\n",
    "    return True\n",
    "\n",
    "\n",
    "# Driver Code\n",
    "def main():\n",
    "\n",
    "    test_cases = [\"RACEACAR\", \"A\", \"ABCDEFGFEDCBA\",\n",
    "                  \"ABC\", \"ABCBA\", \"ABBA\", \"RACEACAR\"]\n",
    "    for i in range(len(test_cases)):\n",
    "        print(\"Test Case #\", i + 1)\n",
    "        print(\"-\" * 100)\n",
    "        print(\"The input string is '\", test_cases[i], \"' and the length of the string is \", len(test_cases[i]), \".\", sep='')\n",
    "        print(\"Is it a palindrome?.....\", is_palindrome(test_cases[i]))\n",
    "        print(\"-\" * 100)\n",
    "\n",
    "\n",
    "if __name__ == '__main__':\n",
    "    main()"
   ]
  },
  {
   "cell_type": "code",
   "execution_count": null,
   "metadata": {},
   "outputs": [],
   "source": []
  }
 ],
 "metadata": {
  "kernelspec": {
   "display_name": "base",
   "language": "python",
   "name": "python3"
  },
  "language_info": {
   "codemirror_mode": {
    "name": "ipython",
    "version": 3
   },
   "file_extension": ".py",
   "mimetype": "text/x-python",
   "name": "python",
   "nbconvert_exporter": "python",
   "pygments_lexer": "ipython3",
   "version": "3.8.5"
  }
 },
 "nbformat": 4,
 "nbformat_minor": 2
}
