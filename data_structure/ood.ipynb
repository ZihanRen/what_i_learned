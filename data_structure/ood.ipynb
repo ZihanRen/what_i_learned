{
 "cells": [
  {
   "cell_type": "markdown",
   "metadata": {},
   "source": [
    "# Value Class Implementation Problem\n",
    "\n",
    "## Description\n",
    "Implement a class called `Valuable` that represents an object with two attributes:\n",
    "- `id`: An identifier for the valuable object\n",
    "- `name`: A name describing the valuable object\n",
    "\n",
    "## Requirements\n",
    "1. Create a `Valuable` class with:\n",
    "   - Two instance variables: `id` and `name`\n",
    "   - A constructor that initializes both fields\n",
    "   - Appropriate getters and setters\n",
    "2. Include test cases to verify the implementation\n",
    "\n",
    "## Expected Output\n",
    "The implementation should demonstrate proper object creation and attribute manipulation.\n",
    "\n",
    "## Example Usage\n",
    "```python\n",
    "valuable = Valuable(1, \"Gold\")\n",
    "print(valuable.id)    # Should output: 1\n",
    "print(valuable.name)  # Should output: Gold\n",
    "```"
   ]
  },
  {
   "cell_type": "code",
   "execution_count": 1,
   "metadata": {},
   "outputs": [],
   "source": [
    "class Valueable:\n",
    "    def __init__(self, id,name):\n",
    "        self.id = id\n",
    "        self.name = name\n",
    "    \n",
    "\n",
    "    def __str__(self):\n",
    "        return f'Valueable({self.id},{self.name})'\n",
    "\n",
    "\n",
    "# test\n",
    "v = Valueable(1,'a')\n",
    "\n",
    "assert str(v) == 'Valueable(1,a)'\n",
    "assert v.id == 1\n",
    "assert v.name == 'a'"
   ]
  },
  {
   "cell_type": "code",
   "execution_count": 4,
   "metadata": {},
   "outputs": [
    {
     "name": "stdout",
     "output_type": "stream",
     "text": [
      "Test 1: Constructor and properties\n",
      "Expected: id=1, name=Gold\n",
      "Actual: id=1, name=Gold\n",
      "\n",
      "Test 2: Testing setters\n",
      "Expected: Valuable(id=3, name='Platinum')\n",
      "Actual: Valuable(id=3, name='Platinum')\n",
      "\n",
      "Test 3: Empty name handling\n",
      "Expected: id=4, name=''\n",
      "Actual: id=4, name=''\n"
     ]
    }
   ],
   "source": [
    "# set up several decorators\n",
    "\n",
    "class Valuable:\n",
    "    def __init__(self, id: int, name: str):\n",
    "        self._id = id\n",
    "        self._name = name\n",
    "    \n",
    "    @property\n",
    "    def id(self) -> int:\n",
    "        return self._id\n",
    "    \n",
    "    @id.setter\n",
    "    def id(self, value: int):\n",
    "        self._id = value\n",
    "    \n",
    "    @property\n",
    "    def name(self) -> str:\n",
    "        return self._name\n",
    "    \n",
    "    @name.setter\n",
    "    def name(self, value: str):\n",
    "        self._name = value\n",
    "    \n",
    "    def __str__(self) -> str:\n",
    "        return f\"Valuable(id={self._id}, name='{self._name}')\"\n",
    "\n",
    "def run_tests():\n",
    "    # Test 1: Basic constructor and properties\n",
    "    print(\"Test 1: Constructor and properties\")\n",
    "    v1 = Valuable(1, \"Gold\")\n",
    "    print(f\"Expected: id=1, name=Gold\")\n",
    "    print(f\"Actual: id={v1.id}, name={v1.name}\")\n",
    "    \n",
    "    # Test 2: Setters\n",
    "    print(\"\\nTest 2: Testing setters\")\n",
    "    v2 = Valuable(2, \"Silver\")\n",
    "    v2.id = 3\n",
    "    v2.name = \"Platinum\"\n",
    "    print(f\"Expected: Valuable(id=3, name='Platinum')\")\n",
    "    print(f\"Actual: {v2}\")\n",
    "    \n",
    "    # Test 3: Empty name\n",
    "    print(\"\\nTest 3: Empty name handling\")\n",
    "    v3 = Valuable(4, \"\")\n",
    "    print(f\"Expected: id=4, name=''\")\n",
    "    print(f\"Actual: id={v3.id}, name='{v3.name}'\")\n",
    "\n",
    "if __name__ == \"__main__\":\n",
    "    run_tests()"
   ]
  },
  {
   "cell_type": "code",
   "execution_count": null,
   "metadata": {},
   "outputs": [],
   "source": []
  }
 ],
 "metadata": {
  "kernelspec": {
   "display_name": "mlops",
   "language": "python",
   "name": "python3"
  },
  "language_info": {
   "codemirror_mode": {
    "name": "ipython",
    "version": 3
   },
   "file_extension": ".py",
   "mimetype": "text/x-python",
   "name": "python",
   "nbconvert_exporter": "python",
   "pygments_lexer": "ipython3",
   "version": "3.9.12"
  }
 },
 "nbformat": 4,
 "nbformat_minor": 2
}
