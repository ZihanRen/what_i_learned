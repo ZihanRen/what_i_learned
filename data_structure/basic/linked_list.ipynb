{
 "cells": [
  {
   "cell_type": "markdown",
   "metadata": {},
   "source": [
    "#### Linked List\n",
    "\n",
    "* one node contains data and next\n",
    "* in a linkedin list, head is the beginning of linkedin list, by calling next of head can get data and next elements"
   ]
  },
  {
   "cell_type": "markdown",
   "metadata": {},
   "source": [
    "#### linked list\n",
    "\n",
    "instead of linearly allocating memory, linked list can dynamically allocate memory. e.g. [1,2,3] pointing to memory slots [[1,2,3,4],[5,6,7,8],[9,10,11,12]] now can be anywhere that is not connected: [100,101,102,103] ...\n",
    "\n",
    "* (1) representation\n",
    "[3,1,2,9] -> [3|1,1|2,2|9,9|None], where 3 is head and 9 is tail. each node contains data and next. The next is actually the pointer pointing to the next value 1. The 1 pointer is stored nearby 3. But pointing to anywhere.\n",
    "[A good explanation](https://www.udemy.com/course/data-structures-and-algorithms-masterclass/learn/lecture/22448294?start=0#overview)\n",
    "\n",
    "\n",
    "* (2) types\n",
    "\n",
    "(1) singly linked list\n",
    "\n",
    "(2)x    "
   ]
  },
  {
   "cell_type": "code",
   "execution_count": 2,
   "metadata": {},
   "outputs": [],
   "source": [
    "# definition of linkedin list node\n",
    "class LinkedListNode:\n",
    "    # __init__ will be used to make a LinkedListNode type object.\n",
    "    def __init__(self, data, next=None):\n",
    "        self.data = data\n",
    "        self.next = next\n",
    "\n",
    "\n",
    "# Template for the linked list\n",
    "class LinkedList:\n",
    "    # __init__ will be used to make a LinkedList type object.\n",
    "    def __init__(self):\n",
    "        self.head = None\n",
    "\n",
    "    # insert_node_at_head method will insert a LinkedListNode at head\n",
    "    # of a linked list.\n",
    "    def insert_node_at_head(self, node):\n",
    "        if self.head:\n",
    "            # set up insert node as head and move previous head front\n",
    "            node.next = self.head\n",
    "            # replace current head with node\n",
    "            self.head = node\n",
    "        else:\n",
    "            self.head = node\n",
    "\n",
    "    # create_linked_list method will create the linked list using the\n",
    "    # given integer array with the help of InsertAthead method.\n",
    "    def create_linked_list(self, lst):\n",
    "        # reverse the list to insert elements in the head\n",
    "        for x in reversed(lst):\n",
    "            new_node = LinkedListNode(x)\n",
    "            self.insert_node_at_head(new_node)\n",
    "\n",
    "    # returns the number of nodes in the linked list\n",
    "    def get_length(self, head):\n",
    "        temp = head\n",
    "        length = 0\n",
    "        while(temp):\n",
    "            length+=1\n",
    "            temp = temp.next\n",
    "        return length\n",
    "\n",
    "    # returns the node at the specified position(index) of the linked list\n",
    "    def get_node(self, head, pos):\n",
    "        if pos != -1:\n",
    "            p = 0\n",
    "            ptr = head\n",
    "            while p < pos:\n",
    "                ptr = ptr.next\n",
    "                p += 1\n",
    "            return ptr\n",
    "    \n",
    "    # __str__(self) method will display the elements of linked list.\n",
    "    def __str__(self):\n",
    "        result = \"\"\n",
    "        temp = self.head\n",
    "        while temp:\n",
    "            result += str(temp.data)\n",
    "            temp = temp.next\n",
    "            if temp:\n",
    "                result += \", \"\n",
    "        result += \"\"\n",
    "        return result"
   ]
  },
  {
   "cell_type": "code",
   "execution_count": 3,
   "metadata": {},
   "outputs": [
    {
     "name": "stdout",
     "output_type": "stream",
     "text": [
      "2\n",
      "3\n",
      "1, 2, 3\n",
      "1\n",
      "2\n",
      "3\n",
      "\n",
      "\n",
      "traversing examples:\n",
      "1\n",
      "2\n",
      "3\n"
     ]
    }
   ],
   "source": [
    "# example of how to use the LinkedList class\n",
    "a = LinkedList()\n",
    "a.create_linked_list([1,2,3])\n",
    "print(a.get_node(a.head, 0).next.data)\n",
    "print(a.get_length(a.head))\n",
    "print(a.__str__())\n",
    "print(a.head.data)\n",
    "print(a.head.next.data)\n",
    "print(a.head.next.next.data)\n",
    "\n",
    "# traverse the linkedin list\n",
    "print('\\n')\n",
    "print('traversing examples:')\n",
    "current = a.head\n",
    "while current:\n",
    "    print(current.data)\n",
    "    current = current.next"
   ]
  }
 ],
 "metadata": {
  "kernelspec": {
   "display_name": "pnm-old",
   "language": "python",
   "name": "python3"
  },
  "language_info": {
   "codemirror_mode": {
    "name": "ipython",
    "version": 3
   },
   "file_extension": ".py",
   "mimetype": "text/x-python",
   "name": "python",
   "nbconvert_exporter": "python",
   "pygments_lexer": "ipython3",
   "version": "3.9.12"
  }
 },
 "nbformat": 4,
 "nbformat_minor": 2
}
