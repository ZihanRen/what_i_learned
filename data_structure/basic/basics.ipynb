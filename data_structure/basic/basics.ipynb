{
 "cells": [
  {
   "cell_type": "markdown",
   "metadata": {},
   "source": [
    "#### Tree"
   ]
  },
  {
   "cell_type": "markdown",
   "metadata": {},
   "source": []
  },
  {
   "cell_type": "markdown",
   "metadata": {},
   "source": [
    "#### Traversal"
   ]
  },
  {
   "cell_type": "markdown",
   "metadata": {},
   "source": [
    "#### DFS - depth first search. Tricks\n",
    "\n",
    "1. Pre order traversal\n",
    "\n",
    "Asuming tree follows: [A,B,C,D,E,F]. A is the root node. B, C are children. B is the root of D and E. C is the root of F. D is the left side\n",
    "\n",
    "* tree follows root - left - right. ABDECF\n",
    "\n",
    "* traversal logic: reach first time, add to result. \n",
    "\n",
    "2. In order traversal\n",
    "\n",
    "* follows: left - root - right： DBEAFC\n",
    "\n",
    "* meet 2nd time - add to result\n",
    "\n",
    "3. post order traevrsal\n",
    "\n",
    "* last time meet - add to result. If the element no further left or right children, this is your last time to visit this tree. Node has been complete searched then it can be added to result\n",
    "* left - right - root: DEBFCA\n",
    "\n"
   ]
  },
  {
   "cell_type": "code",
   "execution_count": null,
   "metadata": {},
   "outputs": [],
   "source": [
    "# preorder\n",
    "\n",
    "class Node:\n",
    "    def __init__(self, value):\n",
    "        self.value = value\n",
    "        self.left = None\n",
    "        self.right = None\n",
    "\n",
    "\n",
    "\n",
    "class BinaryTree:\n",
    "    def __init__(self,root):\n",
    "        self.root = Node(root)\n",
    "    \n",
    "    def preorder(self,start,traversal):\n",
    "        # root - left - right\n",
    "        # return empty is start is None\n",
    "        if start is None:\n",
    "            # return to end the recursion\n",
    "            return\n",
    "        \n",
    "        # root -> left -> right\n",
    "        traversal.append(start.value)\n",
    "\n",
    "        # if left is None, recursion will be jumped out\n",
    "        self.preorder(start.left,traversal)\n",
    "        self.preorder(start.right,traversal)\n",
    "\n",
    "        return traversal\n",
    "\n",
    "\n",
    "    def ineorder(self,start,traversal):\n",
    "        # left -> root -> right\n",
    "        # return empty is start is None\n",
    "        if start is None:\n",
    "            # return to end the recursion\n",
    "            # call back operation\n",
    "            return\n",
    "        \n",
    "        self.preorder(start.left,traversal)\n",
    "        traversal.append(start.value)\n",
    "        self.preorder(start.right,traversal)\n",
    "\n",
    "        return traversal\n",
    "    \n",
    "\n",
    "    def posteorder(self,start,traversal):\n",
    "        # left -> root -> right\n",
    "        # return empty is start is None\n",
    "        if start is None:\n",
    "            # return to end the recursion\n",
    "            # call back operation\n",
    "            return\n",
    "        \n",
    "        # root -> left -> right\n",
    "    \n",
    "        self.preorder(start.left,traversal)\n",
    "        self.preorder(start.right,traversal)\n",
    "        traversal.append(start.value)\n",
    "\n",
    "        return traversal"
   ]
  },
  {
   "cell_type": "markdown",
   "metadata": {},
   "source": [
    "#### Recursion\n",
    "\n",
    "1. recursion is a function that calls itself\n",
    "2. whenever we use recursion, we need to remember the base case - always think of the base case first\n",
    "\n",
    "Application:\n",
    "* binary tree\n",
    "* graph\n",
    "* sorting function"
   ]
  },
  {
   "cell_type": "code",
   "execution_count": 4,
   "metadata": {},
   "outputs": [
    {
     "name": "stdout",
     "output_type": "stream",
     "text": [
      "UL\n",
      "UL\n",
      "UL\n",
      "1\n",
      "2\n",
      "3\n",
      "------------------------------\n"
     ]
    }
   ],
   "source": [
    "# basic case\n",
    "def run(n):\n",
    "    # after every execution, the function will be saved in stack\n",
    "\n",
    "    # if this line is called, this function means complete, it will go to the upper level\n",
    "    # check previous function in stack0\n",
    "    if n==0:\n",
    "        return\n",
    "    \n",
    "    # calling execution\n",
    "    print(\"UL\")\n",
    "    \n",
    "    # return execution\n",
    "    run(n-1)\n",
    "\n",
    "    \n",
    "    print(n)\n",
    "\n",
    "n = 3\n",
    "run(n)\n",
    "print(30*'-')\n",
    "\n",
    "# after printing UL, it will go to the recursion\n",
    "# run(1), -> run(2), -> run(3) which are in the stack\n",
    "# they are like tree branches\n",
    "\n"
   ]
  },
  {
   "cell_type": "code",
   "execution_count": 6,
   "metadata": {},
   "outputs": [
    {
     "name": "stdout",
     "output_type": "stream",
     "text": [
      "3\n",
      "2\n",
      "1\n",
      "current level is done\n",
      "------------------------------\n",
      "current level is done\n",
      "------------------------------\n",
      "1\n",
      "current level is done\n",
      "------------------------------\n",
      "current level is done\n",
      "------------------------------\n",
      "2\n",
      "1\n",
      "current level is done\n",
      "------------------------------\n",
      "current level is done\n",
      "------------------------------\n",
      "1\n",
      "current level is done\n",
      "------------------------------\n"
     ]
    }
   ],
   "source": [
    "# understand tree recursion\n",
    "# multiple recursion in one function\n",
    "\n",
    "\n",
    "def run(n):\n",
    "    if n==0:\n",
    "        return\n",
    "    print(n)\n",
    "    run(n-1)\n",
    "    print('current level is done')\n",
    "    print(30*'-')\n",
    "    run(n-1)\n",
    "\n",
    "run(3)"
   ]
  },
  {
   "cell_type": "code",
   "execution_count": 10,
   "metadata": {},
   "outputs": [
    {
     "data": {
      "text/plain": [
       "120"
      ]
     },
     "execution_count": 10,
     "metadata": {},
     "output_type": "execute_result"
    }
   ],
   "source": [
    "# most common recursion - Factorial of a number\n",
    "# write a function to calculate factorial of a number\n",
    "\n",
    "# factorial of 5 = 5*4*3*2*1 = 120\n",
    "\n",
    "def factorial(n):\n",
    "    # set up the base casez\n",
    "    if n==0:\n",
    "        return 1\n",
    "    else:\n",
    "        left = n\n",
    "        right = factorial(n-1)\n",
    "        return left*right\n",
    "\n",
    "# firstly goes to 1, then 2*1, then 3*2*1, then 4*3*2*1, then 5*4*3*2*1\n",
    "factorial(5)\n",
    "\n"
   ]
  },
  {
   "cell_type": "markdown",
   "metadata": {},
   "source": [
    "#### Stack & Queue\n",
    "\n",
    "By default, remove the last element\n",
    "\n",
    "1. Stack - typically array\n",
    "* We can only take the last out in stack. [0,1,2,3]: 3 is the last added value and 3 is also the element that we can remove first\n",
    "* stack.pop(): remove the last item\n",
    "* peak: return top most item \n",
    "* push(3)\n",
    "\n",
    "2. FIFO: first in first out - linked list\n",
    "by default, remove first element\n",
    "* queue = [5,6,10,9]. deque: remove first element 5; enque: insert new item in the last.\n",
    "\n",
    "\n",
    "It's easy to remove last element using stack but hard for FIFO; Same for remove first, using FIFO"
   ]
  },
  {
   "cell_type": "code",
   "execution_count": null,
   "metadata": {},
   "outputs": [],
   "source": []
  },
  {
   "cell_type": "markdown",
   "metadata": {},
   "source": []
  }
 ],
 "metadata": {
  "kernelspec": {
   "display_name": "base",
   "language": "python",
   "name": "python3"
  },
  "language_info": {
   "codemirror_mode": {
    "name": "ipython",
    "version": 3
   },
   "file_extension": ".py",
   "mimetype": "text/x-python",
   "name": "python",
   "nbconvert_exporter": "python",
   "pygments_lexer": "ipython3",
   "version": "3.8.5"
  }
 },
 "nbformat": 4,
 "nbformat_minor": 2
}
