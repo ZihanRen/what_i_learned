{
 "cells": [
  {
   "cell_type": "markdown",
   "metadata": {},
   "source": [
    "### Heap introduction [link](https://www.udemy.com/course/data-structures-and-algorithms-masterclass/learn/lecture/22448336#overview)\n",
    "\n",
    "#### Definition:\n",
    "* Tree Structure: A max heap is a binary tree that is completely filled on all levels except possibly for the lowest level, which is filled from left to right.\n",
    "* Heap Property: In a max heap, every parent node is greater than or equal to its children nodes. This property must be true for every single node, not just the root.\n",
    "\n",
    "\n",
    "\n",
    "1. classification:\n",
    "* max heap - max values will be on the top.\n",
    "* min heap - min values will be on the top\n",
    "\n",
    "\n",
    "2. procedure:\n",
    "* depth of tree h = log(n)\n",
    "* arrangement: from left to right - see below figures for more details\n",
    "* each parent always have two child nodes\n",
    "\n",
    "3. Balanced binary tree\n",
    "* the structure depends on the new values - dynamically update the tree\n",
    "\n",
    "4. Using array to characterize:\n",
    "\n",
    "5. insertion\n",
    "* for max heap to add smallest values - just add to node. Supposing you are inserting values at node \n",
    "* for max heap, to add larger values, you need to swap. (1) calculate parent node (i-1)/2 or (i-2)/2 indice, swap, compare and swap repeat until condition satisfied.\n",
    "\n",
    "left node: 2i+1, right node: 2i+2. Right nodes are even and left node are odd. \n",
    "Thus given a node to calcualte parent indice: (i-1)/2 - odd or (i-2)/2 - even\n",
    "\n",
    "![image.png](attachment:image.png)\n",
    "\n",
    "6. deletion\n",
    "* supposing you are deleting indices 7, swap 7 with root node, repeat swap and delete the root."
   ]
  },
  {
   "cell_type": "code",
   "execution_count": 1,
   "metadata": {},
   "outputs": [
    {
     "name": "stdout",
     "output_type": "stream",
     "text": [
      "[3, 5, 7, 10]\n",
      "3\n",
      "[5, 10, 7]\n",
      "5\n",
      "\n",
      "\n",
      "[-10, -5, -7, 2]\n",
      "10\n",
      "10\n",
      "7\n",
      "\n",
      "\n",
      "[0, 2, 1, 4, 5, 3]\n"
     ]
    }
   ],
   "source": [
    "# basic knowledge about heap list construction\n",
    "from heapq import *\n",
    "\n",
    "# construct min heap list\n",
    "min_heap_list = []\n",
    "\n",
    "heappush(min_heap_list, 10)\n",
    "heappush(min_heap_list, 5)\n",
    "heappush(min_heap_list, 7)\n",
    "heappush(min_heap_list, 3)\n",
    "print(min_heap_list)\n",
    "\n",
    "# delete min element\n",
    "print(heappop(min_heap_list))\n",
    "print(min_heap_list)\n",
    "print(min_heap_list[0])\n",
    "\n",
    "\n",
    "# construct max heap\n",
    "print('\\n')\n",
    "max_heap_list = []\n",
    "heappush(max_heap_list, -10)\n",
    "heappush(max_heap_list, -5)\n",
    "heappush(max_heap_list, -7)\n",
    "heappush(max_heap_list, 2)\n",
    "print(max_heap_list)\n",
    "# get the maximum value\n",
    "print(-max_heap_list[0])\n",
    "\n",
    "# delete max element\n",
    "print(-heappop(max_heap_list))\n",
    "print(-max_heap_list[0])\n",
    "\n",
    "\n",
    "\n",
    "# heapify\n",
    "print('\\n')\n",
    "a = [1,2,3,4,5]\n",
    "heappush(a, 0)\n",
    "print(a)"
   ]
  },
  {
   "cell_type": "code",
   "execution_count": null,
   "metadata": {},
   "outputs": [],
   "source": []
  }
 ],
 "metadata": {
  "kernelspec": {
   "display_name": "pnm-old",
   "language": "python",
   "name": "python3"
  },
  "language_info": {
   "codemirror_mode": {
    "name": "ipython",
    "version": 3
   },
   "file_extension": ".py",
   "mimetype": "text/x-python",
   "name": "python",
   "nbconvert_exporter": "python",
   "pygments_lexer": "ipython3",
   "version": "3.9.12"
  }
 },
 "nbformat": 4,
 "nbformat_minor": 2
}
