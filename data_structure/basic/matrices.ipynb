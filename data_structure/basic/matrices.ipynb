{
 "cells": [
  {
   "cell_type": "markdown",
   "metadata": {},
   "source": [
    "#### Intro\n",
    "\n",
    "Several operation:\n",
    "\n",
    "* Addition and subtraction\n",
    "* Multiplication\n",
    "* Inverse: AB=BA = I\n",
    "* Transpose: Swapping the rows and columns of a matrix\n",
    "* Scalar Multiplication\n",
    "* Rotation: rotated at an angle\n",
    "* Reflection: Flipped over an axis\n",
    "* Row-major traversal\n",
    "* column major traversal\n",
    "* Diagonal traversal\n",
    "* Spiral traversal\n"
   ]
  },
  {
   "cell_type": "markdown",
   "metadata": {},
   "source": [
    "Given a matrix, mat, if any element within the matrix is zero, set that row and column to zero.\n",
    "\n",
    "it's very stupid and it's spatial efficient"
   ]
  },
  {
   "cell_type": "code",
   "execution_count": 1,
   "metadata": {},
   "outputs": [],
   "source": [
    "# this approach modify matrix in place\n",
    "# firstly, convert first row and first column as marker.\n",
    "# traverse non-first rows columns to modify the matrix\n",
    "# at last, check if first row and first column needs to be transformed to\n",
    "\n",
    "def set_matrix_zeros(mat):\n",
    "\trows = len(mat)\n",
    "\tcols = len(mat[0])\n",
    "\tfcol = False\n",
    "\tfrow = False\n",
    "\t\n",
    "\t# Check if there is a zero in first column, set fcol to True.\n",
    "\tfor i in range(rows):\n",
    "\t\tif mat[i][0] == 0:\n",
    "\t\t\tfcol = True\n",
    "\n",
    "\t# Check if there is a zero in first row, set frow to True.\n",
    "\tfor i in range(cols):\n",
    "\t\tif mat[0][i] == 0:\n",
    "\t\t\tfrow = True\n",
    "\n",
    "\t# Check row elements (by ignoring first row and first column). If zero is found,\n",
    "\t# set corresponding row's and column's first element to zero.\n",
    "\tfor i in range(1, rows):\n",
    "\t\tfor j in range(1, cols):\n",
    "\t\t\tif mat[i][j] == 0:\n",
    "\t\t\t\tmat[0][j] = mat[i][0] = 0\n",
    "\n",
    "\t# Check every row's first element starting from second row.\n",
    "\t# Set complete row to zero if zero is found.\n",
    "\tfor i in range(1, rows):\n",
    "\t\tif mat[i][0] == 0:\n",
    "\t\t\tfor j in range(1, cols):\n",
    "\t\t\t\tmat[i][j] = 0\n",
    "\n",
    "\t# Check every column's first element starting from second column.\n",
    "\t# Set complete column to zero if zero is found.\n",
    "\tfor j in range(1, cols):\n",
    "\t\tif mat[0][j] == 0:\n",
    "\t\t\tfor i in range(1, rows):\n",
    "\t\t\t\tmat[i][j] = 0\n",
    "\n",
    "\t# If fcol is true, set first column to zero.\n",
    "\tif fcol:\n",
    "\t\tfor i in range(rows):\n",
    "\t\t\tmat[i][0] = 0\n",
    "\n",
    "\t# If frow is true, set first row to zero.\n",
    "\tif frow:\n",
    "\t\tfor j in range(cols):\n",
    "\t\t\tmat[0][j] = 0\n",
    "\treturn mat"
   ]
  },
  {
   "cell_type": "markdown",
   "metadata": {},
   "source": [
    "Given an \n",
    "n×n\n",
    " matrix, rotate the matrix 90 degrees clockwise. The performed rotation should be in place, i.e., the given matrix is modified directly without allocating another matrix."
   ]
  },
  {
   "cell_type": "code",
   "execution_count": 3,
   "metadata": {},
   "outputs": [],
   "source": [
    "# if no need to modify in place:\n",
    "\n",
    "def rotate_image(matrix):\n",
    "  \n",
    "  ndims = len(matrix)\n",
    "  output = [[0] * ndims for _ in range(ndims)]\n",
    "\n",
    "  \n",
    "  # rotate based in rows\n",
    "  for row in range(ndims):\n",
    "    for col in range(ndims):\n",
    "      new_row = col\n",
    "      new_col = ndims - 1 - row\n",
    "      \n",
    "      output[new_row][new_col] = matrix[row][col]\n",
    "  \n",
    "  return output"
   ]
  },
  {
   "cell_type": "code",
   "execution_count": 6,
   "metadata": {},
   "outputs": [
    {
     "data": {
      "text/plain": [
       "2"
      ]
     },
     "execution_count": 6,
     "metadata": {},
     "output_type": "execute_result"
    }
   ],
   "source": [
    "# it's rediculous\n",
    "# diagonal - swap 3 times\n",
    "# traverse layer by layer\n",
    "\n",
    "# top left - rop right\n",
    "# diagonal\n",
    "# top left bottom left \n",
    "\n",
    "\n",
    "def rotate_image(matrix):\n",
    "    n = len(matrix)\n",
    "\n",
    "    # need visualization \n",
    "    for row in range(n//2):\n",
    "        for col in range(row,n-row-1):\n",
    "            # swap top left with top right\n",
    "            # swap based on principle\n",
    "            \n",
    "            # transpose row. calculate new col \n",
    "            matrix[row][col], matrix[col][n-1-row] = matrix[col][n-1-row]\n",
    "            # swap diagonal\n",
    "            matrix[row][col], matrix[n-1-row][n-1-row] = matrix[n-1-row][n-1-row], matrix[row,col]\n",
    "\n",
    "            # swap upper left with bottom left\n",
    "            matrix[row][col], matrix[n-1-row][row] = matrix[n-1-row][row],matrix[row][col]\n",
    "    \n",
    "    return matrix\n"
   ]
  },
  {
   "cell_type": "code",
   "execution_count": null,
   "metadata": {},
   "outputs": [],
   "source": [
    "# approach 3: transposed + reflect\n",
    "# the best approach\n",
    "# pure math\n",
    "# by far the best approach\n",
    "\n",
    "from typing import List\n",
    "\n",
    "class Solution:\n",
    "    def rotate(self, matrix: List[List[int]]) -> None:\n",
    "        \"\"\"\n",
    "        Do not return anything, modify matrix in-place instead.\n",
    "        \"\"\"\n",
    "        self.transpose(matrix)\n",
    "        self.reflect(matrix)\n",
    "    \n",
    "    def transpose(self,matrix):\n",
    "\n",
    "        n = len(matrix)\n",
    "\n",
    "        # traverse all rows firstly\n",
    "        for row in range(n):\n",
    "            for col in range(row+1,n):\n",
    "                # swap\n",
    "                matrix[row][col],matrix[col][row] = matrix[col][row], matrix[row][col]\n",
    "    \n",
    "    def reflect(self,matrix):\n",
    "        n = len(matrix)\n",
    "        for i in range(n):\n",
    "            for j in range(n//2):\n",
    "                matrix[i][j], matrix[i][-j-1] = matrix[i][-j-1], matrix[i][j]\n",
    "        \n",
    "\n",
    "\n",
    "\n",
    "\n"
   ]
  },
  {
   "cell_type": "markdown",
   "metadata": {},
   "source": [
    "54. Spiral Matrix"
   ]
  },
  {
   "cell_type": "markdown",
   "metadata": {},
   "source": []
  },
  {
   "cell_type": "code",
   "execution_count": 10,
   "metadata": {},
   "outputs": [],
   "source": [
    "for i in range(8,0):\n",
    "    print(i)"
   ]
  },
  {
   "cell_type": "code",
   "execution_count": null,
   "metadata": {},
   "outputs": [],
   "source": []
  }
 ],
 "metadata": {
  "kernelspec": {
   "display_name": "base",
   "language": "python",
   "name": "python3"
  },
  "language_info": {
   "codemirror_mode": {
    "name": "ipython",
    "version": 3
   },
   "file_extension": ".py",
   "mimetype": "text/x-python",
   "name": "python",
   "nbconvert_exporter": "python",
   "pygments_lexer": "ipython3",
   "version": "3.8.5"
  }
 },
 "nbformat": 4,
 "nbformat_minor": 2
}
