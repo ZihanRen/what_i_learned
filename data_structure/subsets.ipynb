{
 "cells": [
  {
   "cell_type": "markdown",
   "metadata": {},
   "source": [
    "#### Subsets\n",
    "\n",
    "The subsets pattern is an important strategy to solve coding problems that involve exploring all possible combinations of elements from a given data structure. This pattern can be useful when dealing with sets containing unique elements or arrays/lists that may contain duplicate elements. It is used to generate all specific subsets based on the conditions that the problem provides us.\n",
    "\n",
    "The common method used is to build the subsets incrementally, including or excluding each element of the original data structure, depending on the constraints of the problem. This process is continued for the remaining elements until all desired subsets have been generated.\n",
    "\n",
    "The following illustration shows how subsets are made from a given array:\n",
    "\n",
    "supposing we have [1,2,3]\n",
    "\n",
    "split 1: [] vs [1]\n",
    "\n",
    "split 2: 2+[], 2+[1], [], [1] -> [],[1],[2],[1,2]\n",
    "\n",
    "split 3: 3+[], 3+[1], 3+[2], 3+[1,2], [], [1], [2], [1,2] - > [], [1], [2], [1,2], [3], [1,3], [2,3], [1,2,3]"
   ]
  },
  {
   "cell_type": "markdown",
   "metadata": {},
   "source": [
    "Note: We sometimes also use a programming technique known as backtracking to generate the required subsets of a given data structure of elements. Backtracking applies to a broader range of problems where exhaustive search, that is, evaluating all possibilities, is required. These problems may involve various constraints, rules, or conditions that guide the exploration process. Not all of these problems involve finding subsets. That is why it is necessary to discuss Subsets as a separate programming pattern.\n",
    "\n",
    "The following examples illustrate some problems that can be solved with this approach:\n",
    "\n",
    "1. Permutations: Return all possible permutations of an array of distinct integers.\n",
    "2. Combination sum: Return all combinations of integers in an array that add up to a target number.\n",
    "\n",
    "\n"
   ]
  },
  {
   "cell_type": "markdown",
   "metadata": {},
   "source": [
    "#### Q1\n",
    "\n",
    "Given an array of integers, nums, find all possible subsets of nums, including the empty set.\n",
    "\n"
   ]
  },
  {
   "cell_type": "code",
   "execution_count": null,
   "metadata": {},
   "outputs": [],
   "source": [
    "# time complexity: O(2^N*n)\n",
    "# space complexity: O(2^n * n) - for each subset, we need to store it in a list\n",
    "\n",
    "def find_all_subsets(nums):\n",
    "    if not nums:\n",
    "        return [[]]\n",
    "\n",
    "    subsets_list = []\n",
    "    subsets_list.append([])\n",
    "\n",
    "    for num in nums:\n",
    "        new_subsets = []\n",
    "        for subset in subsets_list:\n",
    "            # get new variants of subsets\n",
    "            new_subsets.append(subset + [num])\n",
    "        # add original subset\n",
    "        subsets_list.extend(new_subsets)\n",
    "        \n",
    "    return subsets_list"
   ]
  },
  {
   "cell_type": "code",
   "execution_count": 4,
   "metadata": {},
   "outputs": [
    {
     "data": {
      "text/plain": [
       "[[1, 2], [3, 4], [5, 6], [7, 8]]"
      ]
     },
     "execution_count": 4,
     "metadata": {},
     "output_type": "execute_result"
    }
   ],
   "source": [
    "c = [[1,2],[3,4]]\n",
    "d = [[5,6],[7,8]]\n",
    "c.extend(d)\n",
    "c"
   ]
  },
  {
   "cell_type": "code",
   "execution_count": 5,
   "metadata": {},
   "outputs": [],
   "source": [
    "# optimized solution: space complexity: O(n)\n",
    "def get_bit(num, bit):\n",
    "    temp = (1 << bit)\n",
    "    temp = temp & num\n",
    "    if temp == 0:\n",
    "        return 0\n",
    "    return 1\n",
    "\n",
    "def find_all_subsets(nums):\n",
    "    subsets = []\n",
    "    \n",
    "    if not nums:\n",
    "        return [[]]\n",
    "    else:\n",
    "        subsets_count = 2 ** len(nums)\n",
    "        for i in range(0, subsets_count):\n",
    "            subset = set()\n",
    "            for j in range(0, len(nums)):\n",
    "                if get_bit(i, j) == 1 and nums[j] not in subset:\n",
    "                    subset.add(nums[j])\n",
    "            \n",
    "            if i == 0:\n",
    "                subsets.append([])\n",
    "            else:\n",
    "                subsets.append(list(subset))\n",
    "    return subsets\n"
   ]
  },
  {
   "cell_type": "code",
   "execution_count": null,
   "metadata": {},
   "outputs": [],
   "source": []
  }
 ],
 "metadata": {
  "kernelspec": {
   "display_name": "pnm-old",
   "language": "python",
   "name": "python3"
  },
  "language_info": {
   "codemirror_mode": {
    "name": "ipython",
    "version": 3
   },
   "file_extension": ".py",
   "mimetype": "text/x-python",
   "name": "python",
   "nbconvert_exporter": "python",
   "pygments_lexer": "ipython3",
   "version": "3.9.12"
  }
 },
 "nbformat": 4,
 "nbformat_minor": 2
}
