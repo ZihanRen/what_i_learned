{
 "cells": [
  {
   "cell_type": "markdown",
   "metadata": {},
   "source": [
    "#### Modified Binary Search\n",
    "\n",
    "The modified binary search pattern is an extension of the traditional binary search algorithm and can be applied to a wide range of problems. Before we delve into the modified version, let’s first recap the classic binary search algorithm.\n",
    "\n",
    "\n",
    "#### Binary search\n",
    "Binary search is an efficient search algorithm for searching a target value in sorted arrays or sorted lists that support direct addressing (also known as random access). It follows a divide-and-conquer approach, significantly reducing the search space with each iteration. The algorithm uses three indexes—start, end, and middle—and proceeds as follows:\n",
    "\n",
    "1. Set the start and end indexes to the first and last elements of the array, respectively.\n",
    "\n",
    "2. Calculate the position of the middle index by taking the average of the start and end indexes. For example, if \n",
    "    start=0\n",
    "    and \n",
    "    end=7\n",
    "    , then \n",
    "    middle=⌊(0+7)/2⌋=3.\n",
    "\n",
    "    Compare the target value with the element at the middle index.\n",
    "\n",
    "2. If the target value is equal to the middle index element, we have found the target, and the search terminates.\n",
    "\n",
    "3. If the target value is less than the middle index element, update the end index to \n",
    "    middle−1\n",
    "    and repeat from step 2\n",
    " onwards. Because the array is sorted, all the values between the middle and the end indexes will also be greater than the target value. Therefore, there’s no reason to consider that half of the search space.\n",
    "\n",
    "4. If the target value is greater than the middle index element, update the start index to \n",
    "    middle+1\n",
    "    and repeat from step \n",
    "    2\n",
    "    . Again, because the array is sorted, all the values between the start and the middle indexes will also be less than the target value. Therefore, there’s no reason to consider that half of the search space.\n",
    "\n",
    "Continue the process until the target value is found or if the search space is exhausted, that is, if the start index has crossed the end index. This means that the algorithm has explored all possible values, which implies that the search space is now empty and the target value is not present.\n",
    "\n",
    "Binary search reaches the target value in \n",
    "O(log(n))\n",
    " time because we divide the array into two halves at each step and then focus on only one of these halves. If we had opted for the brute-force approach, we would have had to traverse the entire array without any partitioning to search for the target value, which would take \n",
    "O(n)\n",
    " in the worst case."
   ]
  },
  {
   "cell_type": "markdown",
   "metadata": {},
   "source": [
    "#### Modified Binary search\n",
    "\n",
    "he modified binary search pattern builds upon the basic binary search algorithm discussed above. It involves adapting the traditional binary search approach by applying certain conditions or transformations, allowing us to solve problems in which input data are modified in a certain way.\n",
    "\n",
    "A few common variations of the modified binary search pattern are:\n",
    "\n",
    "1. Binary search on a modified array: Sometimes, the array may be modified in a certain way, which affects the search process. For example, the array might be sorted and then rotated around some unknown pivot. Alternatively, some elements in a sorted array might be modified based on a specific condition. To handle such scenarios, we can modify the basic binary search technique to detect anomalies in the sorted order.\n",
    "\n",
    "2. Binary search with multiple requirements: When searching for a target satisfying multiple requirements, a modified binary search can be used. It involves adapting the comparison logic within the binary search to accommodate multiple specifications. Examples include finding a target range rather than a single target or finding the leftmost or the rightmost occurrence of a target value."
   ]
  },
  {
   "cell_type": "markdown",
   "metadata": {},
   "source": [
    "#### Q1 Binary search\n",
    "\n",
    "We are given an array of integers, nums, sorted in ascending order, and an integer value, target. If the target exists in the array, return its index. If the target does not exist, return -1.\n",
    "\n"
   ]
  },
  {
   "cell_type": "code",
   "execution_count": null,
   "metadata": {},
   "outputs": [],
   "source": [
    "# time complexity: O(log n)\n",
    "# space complexity: O(1)\n",
    "\n",
    "def binary_search(nums, target):\n",
    "\n",
    "    start, end = 0, len(nums) - 1\n",
    "\n",
    "    middle = (start + end) // 2\n",
    "\n",
    "    while start <= end:\n",
    "        if nums[middle] == target:\n",
    "            return middle\n",
    "        elif nums[middle] < target:\n",
    "            start = middle + 1\n",
    "        else:\n",
    "            end = middle - 1\n",
    "\n",
    "        middle = (start + end) // 2\n",
    "    \n",
    "    return -1"
   ]
  },
  {
   "cell_type": "markdown",
   "metadata": {},
   "source": [
    "#### Q2"
   ]
  },
  {
   "cell_type": "markdown",
   "metadata": {},
   "source": [
    "Given a sorted integer array, nums, and an integer value, target, the array is rotated by some arbitrary number. Search and return the index of target in this array. If the target does not exist, return -1.\n",
    "\n",
    "* All values in nums are unique.\n",
    "* The values in nums are sorted in ascending order.\n",
    "* The array may have been rotated by some arbitrary number.\n",
    "\n",
    "random rotation\n",
    "e.g. [1,2,3,4,5,6,7] -> [6,7,,1,2,3,4,5]"
   ]
  },
  {
   "cell_type": "code",
   "execution_count": 1,
   "metadata": {},
   "outputs": [
    {
     "name": "stdout",
     "output_type": "stream",
     "text": [
      "1 .\tRotated array:  [5, 6, 7, 1, 2, 3, 4] \n",
      "\ttarget 1 found at index  3\n",
      "----------------------------------------------------------------------------------------------------\n",
      "2 .\tRotated array:  [40, 50, 60, 10, 20, 30] \n",
      "\ttarget 50 found at index  1\n",
      "----------------------------------------------------------------------------------------------------\n",
      "3 .\tRotated array:  [47, 58, 69, 72, 83, 94, 12, 24, 35] \n",
      "\ttarget 12 found at index  6\n",
      "----------------------------------------------------------------------------------------------------\n",
      "4 .\tRotated array:  [77, 82, 99, 105, 5, 13, 28, 41, 56, 63] \n",
      "\ttarget 56 found at index  8\n",
      "----------------------------------------------------------------------------------------------------\n",
      "5 .\tRotated array:  [48, 52, 57, 62, 68, 72, 5, 7, 12, 17, 21, 28, 33, 37, 41] \n",
      "\ttarget 5 found at index  6\n",
      "----------------------------------------------------------------------------------------------------\n"
     ]
    }
   ],
   "source": [
    "def binary_search_rotated(nums, target):\n",
    "    low = 0\n",
    "    high = len(nums) - 1\n",
    "\n",
    "    while low <= high:\n",
    "\n",
    "        # Finding the mid using floor division\n",
    "        mid = low + (high - low) // 2\n",
    "\n",
    "        # Target value is present at the middle of the array\n",
    "        if nums[mid] == target:\n",
    "            return mid\n",
    "\n",
    "        # both the halves could be distorted or sorted\n",
    "\n",
    "        # low to mid is sorted\n",
    "        if nums[low] <= nums[mid]:\n",
    "            # have to make sure target larger than lower bound\n",
    "            if nums[low] <= target and target < nums[mid]:\n",
    "                high = mid - 1 # target is within the sorted first half of the array\n",
    "            else:\n",
    "                low = mid + 1 # target is not within the sorted first half, so let’s examine the unsorted second half\n",
    "        \n",
    "        # mid to high is sorted\n",
    "        else:\n",
    "            if nums[mid] < target and target <= nums[high]:\n",
    "                low = mid + 1 # target is within the sorted second half of the array\n",
    "            else:\n",
    "                high = mid - 1 # target is not within the sorted second half, so let’s examine the unsorted first half\n",
    "    return -1\n",
    "\n",
    "\n",
    "def main():\n",
    "    nums_list = [[5, 6, 7, 1, 2, 3, 4],\n",
    "                 [40, 50, 60, 10, 20, 30],\n",
    "                 [47, 58, 69, 72, 83, 94, 12, 24, 35], \n",
    "                 [77, 82, 99, 105, 5, 13, 28, 41, 56, 63], \n",
    "                 [48, 52, 57, 62, 68, 72, 5, 7, 12, 17, 21, 28, 33, 37, 41]]\n",
    "\n",
    "    target_list = [1, 50, 12, 56, 5]\n",
    "\n",
    "    for i in range(len(target_list)):\n",
    "        print((i + 1), \".\\tRotated array: \", nums_list[i], \"\\n\\ttarget\", target_list[i], \"found at index \", \\\n",
    "              binary_search_rotated(nums_list[i], target_list[i]))\n",
    "        print(\"-\"*100)\n",
    "\n",
    "\n",
    "if __name__ == '__main__':\n",
    "    main()"
   ]
  },
  {
   "cell_type": "code",
   "execution_count": null,
   "metadata": {},
   "outputs": [],
   "source": []
  }
 ],
 "metadata": {
  "kernelspec": {
   "display_name": "base",
   "language": "python",
   "name": "python3"
  },
  "language_info": {
   "codemirror_mode": {
    "name": "ipython",
    "version": 3
   },
   "file_extension": ".py",
   "mimetype": "text/x-python",
   "name": "python",
   "nbconvert_exporter": "python",
   "pygments_lexer": "ipython3",
   "version": "3.8.5"
  }
 },
 "nbformat": 4,
 "nbformat_minor": 2
}
