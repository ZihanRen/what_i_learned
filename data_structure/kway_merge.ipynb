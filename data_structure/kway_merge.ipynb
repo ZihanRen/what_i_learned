{
 "cells": [
  {
   "cell_type": "markdown",
   "metadata": {},
   "source": [
    "#### K-way merge\n",
    "The K-way merge pattern is an essential algorithmic strategy for merging K sorted data structures, such as arrays and linked lists, into a single sorted data structure. This technique is an expansion of the standard merge sort algorithm, which traditionally merges two sorted data structures into one.\n",
    "\n",
    "To understand the basics of this algorithm, first, we need to know the basic idea behind the K-way merge algorithm. The K-way merge algorithm works by repeatedly selecting the smallest (or largest, if we’re sorting in descending order) element from among the first elements of the K input lists and adding this element to a new output list (with the same data type as the inputs). This process is repeated until all elements from all input lists have been merged into the output list, maintaining the sorted order.\n",
    "\n",
    "Now, let’s take a closer look at how the algorithm works. The K-way merge algorithm comprises two main approaches to achieve its goal, both leading to the same result.\n",
    "\n",
    "Here, we’ll discuss one of the approaches, which uses a minheap:\n",
    "\n",
    "\n",
    "1. Insert the first element of each list into a min heap. This sets up our starting point, with the heap helping us efficiently track the smallest current element among the lists.\n",
    "\n",
    "2. Remove the smallest element from the heap (which is always at the top) and add it to the output list. This ensures that our output list is being assembled in sorted order.\n",
    "\n",
    "3. Keep track of which list each element in the heap came from. This is for knowing where to find the next element to add to the heap.\n",
    "\n",
    "4. After removing the smallest element from the heap and adding it to the output list, replace it with the next element from the same list the removed element belonged to.\n",
    "\n",
    "5. Repeat steps 2–4 until all elements from all input lists have been merged into the output list.\n",
    "\n",
    "The slides below illustrate an example of using this approach with arrays:"
   ]
  },
  {
   "cell_type": "markdown",
   "metadata": {},
   "source": [
    "#### q.1\n",
    "\n",
    "Given two sorted integer arrays, \n",
    "nums1\n",
    " and \n",
    "nums2\n",
    ", and the number of data elements in each array, \n",
    "m\n",
    " and \n",
    "n\n",
    ", implement a function that merges the second array into the first one. You have to modify \n",
    "nums1\n",
    " in place."
   ]
  },
  {
   "cell_type": "code",
   "execution_count": null,
   "metadata": {},
   "outputs": [],
   "source": []
  }
 ],
 "metadata": {
  "language_info": {
   "name": "python"
  }
 },
 "nbformat": 4,
 "nbformat_minor": 2
}
