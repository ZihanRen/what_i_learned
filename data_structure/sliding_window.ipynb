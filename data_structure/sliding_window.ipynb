{
 "cells": [
  {
   "attachments": {
    "image.png": {
     "image/png": "[encoded data removed]"
    }
   },
   "cell_type": "markdown",
   "metadata": {},
   "source": [
    "#### About the pattern\n",
    "The sliding window pattern is used to process sequential data, arrays, and strings, for example, to efficiently solve subarray or substring problems. It involves maintaining a dynamic window that slides through the array or string, adjusting its boundaries as needed to track relevant elements or characters. The window is used to slide over the data in chunks corresponding to the window size, and this can be set according to the problem’s requirements. It may be viewed as a variation of the two pointers pattern, with the pointers being used to set the window bounds.\n",
    "\n",
    "Imagine you’re in a long hallway lined with paintings, and you’re looking through a narrow frame that only reveals a portion of this hallway at any time. As you move the frame along the hallway, new paintings come into view while others leave the frame. This process of moving and adjusting what’s visible through the frame is akin to how the sliding window technique operates over data.\n",
    "\n",
    "Why is this method more efficient? Consider we need to find k consecutive integers with the largest sum in an array. The time complexity of the naive solution to this problem would be O(kn), because we need to compute sums of all subarrays of size 𝑘. On the other hand, if we employ the sliding window pattern, instead of computing the sum of all elements in the window, we can just subtract the element exiting the window, add the element entering the window, and update the maximum sum accordingly. In this way, we can update the sums in constant time, yielding an overall time complexity of O(n)\n",
    ". To summarize, generally, the computations performed every time the window moves should take O(1) time or a slow-growing function, such as the log of a small variable.\n",
    "\n",
    "The following illustration shows a possibility of how a window could move along an array:\n",
    "\n",
    "![image.png](attachment:image.png)"
   ]
  },
  {
   "cell_type": "markdown",
   "metadata": {},
   "source": [
    "#### Does your problem match this pattern?\n",
    "Yes, if all of these conditions are fulfilled:\n",
    "\n",
    "* Contiguous data: The input data is stored in a contiguous manner, such as an array or string.\n",
    "\n",
    "* Processing subsets of elements: The problem requires repeated computations on a contiguous subset of data elements (a subarray or a substring), such that the window moves across the input array from one end to the other. The size of the window may be fixed or variable, depending on the requirements of the problem.\n",
    "\n",
    "* Efficient computation time complexity: The computations performed every time the window moves take constant or very small time."
   ]
  },
  {
   "cell_type": "markdown",
   "metadata": {},
   "source": [
    "#### Question 1\n",
    "Given a string, s, that represents a DNA subsequence, and a number k, return all the contiguous subsequences (substrings) of length 𝑘 that occur more than once in the string. The order of the returned subsequences does not matter. If no repeated substring is found, the function should return an empty set.\n",
    "\n",
    "The DNA sequence is composed of a series of nucleotides abbreviated as A,B,C,.... For example, ACGAATTCCG is a DNA sequence. When studying DNA, it is useful to identify repeated sequences in it."
   ]
  },
  {
   "cell_type": "code",
   "execution_count": 2,
   "metadata": {},
   "outputs": [],
   "source": [
    "# naive approach\n",
    "def find_repeated_sequences(s, k):\n",
    "    repeat_seq = []\n",
    "    acc_list = []\n",
    "    for i in range(len(s)-k+1):\n",
    "        left_idx = i\n",
    "        right_idx = i+k\n",
    "        current_seq = s[left_idx:right_idx]\n",
    "        if current_seq in acc_list:\n",
    "            repeat_seq.append(current_seq)\n",
    "        \n",
    "        acc_list.append(current_seq)\n",
    "\n",
    "\n",
    "\n",
    "    \n",
    "\n",
    "    return set(repeat_seq)"
   ]
  },
  {
   "cell_type": "code",
   "execution_count": null,
   "metadata": {},
   "outputs": [],
   "source": [
    "# sliding window approach\n"
   ]
  },
  {
   "cell_type": "markdown",
   "metadata": {},
   "source": [
    "#### Question 2 - medium\n",
    "\n",
    "Given an integer list, nums, find the maximum values in all the contiguous subarrays (windows) of size w.\n",
    "\n"
   ]
  },
  {
   "cell_type": "code",
   "execution_count": null,
   "metadata": {},
   "outputs": [],
   "source": [
    "# naive approach\n",
    "# time complexity: O(n*w)\n",
    "# O(n): looping the array for one time\n",
    "# O(w): max of sub_arr\n",
    "# space complexity: O(w)\n",
    "# \n",
    "def find_max_sliding_window(nums, w):\n",
    "\n",
    "    n = len(nums)\n",
    "    max_list = []\n",
    "    for i in range(n-w+1):\n",
    "        left_idx = i\n",
    "        right_idx = i+w\n",
    "        sub_arr = nums[left_idx:right_idx] \n",
    "        max_list.append(max(sub_arr))\n",
    "\n",
    "    return max_list"
   ]
  },
  {
   "cell_type": "code",
   "execution_count": 1,
   "metadata": {},
   "outputs": [
    {
     "name": "stdout",
     "output_type": "stream",
     "text": [
      "[1, 2, 3]\n",
      "[4]\n",
      "[4, 5]\n",
      "[6]\n",
      "[7]\n"
     ]
    },
    {
     "data": {
      "text/plain": [
       "[3, 3, 5, 5, 6, 7]"
      ]
     },
     "execution_count": 1,
     "metadata": {},
     "output_type": "execute_result"
    }
   ],
   "source": [
    "from collections import deque\n",
    "\n",
    "def clean_current_window(index,current_window,nums):\n",
    "  while current_window and nums[index] > nums[current_window[-1]]:\n",
    "    current_window.pop()\n",
    "    \n",
    "\n",
    "def find_max_sliding_window(nums, w):\n",
    "  outputs = []\n",
    "  current_window = deque()\n",
    "  \n",
    "  for i in range(w):\n",
    "    clean_current_window(i,current_window,nums)\n",
    "    current_window.append(i)\n",
    "  \n",
    "  outputs.append(nums[current_window[0]])\n",
    "  \n",
    "  for i in range(w,len(nums)):\n",
    "    clean_current_window(i,current_window,nums)\n",
    "    current_window.append(i)\n",
    "    \n",
    "    # before deciding maximum, need to check if left boundary works\n",
    "    if current_window and i > current_window[0] + w - 1:\n",
    "      current_window.popleft()\n",
    "    \n",
    "    outputs.append(nums[current_window[0]])\n",
    "  \n",
    "  return outputs"
   ]
  },
  {
   "cell_type": "markdown",
   "metadata": {},
   "source": [
    "#### Question 3 - hard\n",
    "\n",
    "Given two strings, str1 and str2, find the shortest substring in str1 such that str2 is a subsequence of that substring.\n",
    "\n",
    "A substring is defined as a contiguous sequence of characters within a string. A subsequence is a sequence that can be derived from another sequence by deleting zero or more elements without changing the order of the remaining elements.\n",
    "\n",
    "\n",
    "\n",
    "#### Reflections\n",
    "there are several decomposions of big complexity. Find those decompositions of complexity and then solve them sepaarately"
   ]
  },
  {
   "cell_type": "code",
   "execution_count": 5,
   "metadata": {},
   "outputs": [],
   "source": [
    "def min_window(str1,str2):\n",
    "    len_s1 = len(str1)\n",
    "    len_s2 = len(str2)\n",
    "    min_len = float('inf')\n",
    "    min_str = ''\n",
    "    idx_s1,idx_s2 = 0,0\n",
    "    while idx_s1 < len_s1:\n",
    "\n",
    "        if str1[idx_s1] == str2[idx_s2]:\n",
    "            if idx_s2 == 0:\n",
    "                start = idx_s1\n",
    "            \n",
    "            # increase idx of str2\n",
    "            idx_s2 += 1\n",
    "\n",
    "            # update min_str\n",
    "            # check if str2 reaches to the end\n",
    "            # if it reaches to the end, it means s1 substring contains all str2\n",
    "            if idx_s2 == len_s2:\n",
    "                end = idx_s1\n",
    "                min_len_current = end + 1 - start\n",
    "                if min_len_current < min_len:\n",
    "                    # update minimum string\n",
    "                    min_str = str1[start:end+1]\n",
    "                \n",
    "                # we need to reset idx_s2 and continue looping str1\n",
    "                idx_s2 = 0\n",
    "                idx_s1 = end + 1 # continue looping str\n",
    "                continue\n",
    "        \n",
    "\n",
    "        \n",
    "        # unless a substring is found is s1, update idx_s1\n",
    "        idx_s1 += 1\n",
    "    return min_str\n"
   ]
  },
  {
   "cell_type": "code",
   "execution_count": 1,
   "metadata": {},
   "outputs": [],
   "source": [
    "from collections import deque\n",
    "\n",
    "# a less optimal solution\n",
    "# but okay approach\n",
    "\n",
    "def min_window(str1, str2):\n",
    "    # edge case\n",
    "    if len(str1) < len(str2):\n",
    "      return \"\"\n",
    "    \n",
    "    # construct queue list of str2 \n",
    "    queue_str2 = deque(str2)\n",
    "    substr_list = []\n",
    "    \n",
    "    # first iteration\n",
    "    for i in range(len(str1)):\n",
    "      queue_str2_tmp = queue_str2.copy()\n",
    "      if str1[i] != queue_str2_tmp[0]:\n",
    "        continue\n",
    "      \n",
    "      sub_str_tmp = \"\"\n",
    "      while queue_str2_tmp:\n",
    "        if i > len(str1) - 1:\n",
    "          break\n",
    "        sub_str_tmp += str1[i]\n",
    "        \n",
    "        # if matched, remove first element of str2 \n",
    "        if str1[i] == queue_str2_tmp[0]:\n",
    "          queue_str2_tmp.popleft()\n",
    "        \n",
    "        i += 1\n",
    "      \n",
    "      # find substr is str2 queue is empty\n",
    "      if not queue_str2_tmp:\n",
    "        substr_list.append(sub_str_tmp)\n",
    "      \n",
    "    # find the shortest\n",
    "    shortest_len = float('inf')\n",
    "    shortest_str = \"\"\n",
    "    for sub_str in substr_list:\n",
    "      current_len = len(sub_str)\n",
    "      if current_len < shortest_len:\n",
    "        shortest_str = sub_str\n",
    "        # update shortest\n",
    "        shortest_len = current_len\n",
    "    \n",
    "    return shortest_str"
   ]
  },
  {
   "cell_type": "code",
   "execution_count": null,
   "metadata": {},
   "outputs": [],
   "source": []
  }
 ],
 "metadata": {
  "kernelspec": {
   "display_name": "base",
   "language": "python",
   "name": "python3"
  },
  "language_info": {
   "codemirror_mode": {
    "name": "ipython",
    "version": 3
   },
   "file_extension": ".py",
   "mimetype": "text/x-python",
   "name": "python",
   "nbconvert_exporter": "python",
   "pygments_lexer": "ipython3",
   "version": "3.8.5"
  }
 },
 "nbformat": 4,
 "nbformat_minor": 2
}
