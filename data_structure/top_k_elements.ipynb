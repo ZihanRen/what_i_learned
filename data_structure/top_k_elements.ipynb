{
 "cells": [
  {
   "cell_type": "markdown",
   "metadata": {},
   "source": [
    "#### Introduction to Top K Elements\n",
    "\n",
    "\n",
    "The top k elements pattern is an important technique in coding that helps us efficiently find a specific number of elements, known as \n",
    "k\n",
    ", from a set of data. This is particularly useful when we’re tasked with identifying the largest, smallest, or most/least frequent elements within an unsorted collection.\n",
    "\n",
    "To solve tasks like these, one might think to sort the entire collection first, which takes \n",
    "O(nlog(n))\n",
    " time, and then select the top k elements, taking additional \n",
    "O(k)\n",
    " time. However, the top k elements pattern bypasses the need for full sorting, reducing the time complexity to \n",
    "O(nlogk)\n",
    " by managing which elements we compare and keep track of.\n",
    "\n",
    " Which data structure can we use to solve such problems? A heap is the best data structure to keep track of the smallest or largest\n",
    "k\n",
    " elements. With this pattern, we either use a max heap or a min heap to find the smallest or largest \n",
    "k\n",
    " elements, respectively, because they allow us to efficiently maintain a collection of elements ordered in a way that gives us quick access to the smallest (min heap) or largest (max heap) element.\n",
    "\n",
    "For example, let’s look at how this pattern operates to solve the problem of finding the top \n",
    "k\n",
    " largest elements (by using min heap) or top \n",
    "k\n",
    " smallest elements (by using max heap):\n",
    "\n",
    "\n",
    " 1. Insert the first \n",
    "k\n",
    " elements from the given set of elements into a heap. If we’re looking for the largest elements, use a min heap to keep the smallest of the large elements at the top. Conversely, for the smallest elements, use a max heap to keep the largest of the small elements at the top.\n",
    " 2. terate through the remaining elements of the given set.\n",
    "    * For a min heap, if we find an element larger than the top, remove the top element (the smallest of the large elements) and insert the new, larger element. This ensures the heap always contains the largest elements seen so far.\n",
    "    * For a max heap, if we find an element smaller than the top, remove the top element (the largest of the small elements) and insert the new, smaller element, keeping the heap filled with the smallest elements seen so far.\n",
    "\n",
    "The efficiency of this pattern comes from the ability of the heap to insert and remove elements in 0\n",
    "O(logk)\n",
    " time. Because we only maintain \n",
    "k\n",
    " elements in the heap, these operations are quick, and we can process all \n",
    "n\n",
    " elements in the given set in \n",
    "O(nlogk)\n",
    " time."
   ]
  },
  {
   "cell_type": "markdown",
   "metadata": {},
   "source": [
    "#### Q1\n",
    "\n",
    "Given an infinite stream of integers (sorted or unsorted), nums, design a class to find the \n",
    "k \n",
    "th\n",
    " largest element in a stream.\n",
    "\n",
    " Note: It is the\n",
    "k \n",
    "th\n",
    " largest element in the sorted order, not the \n",
    "k \n",
    "th\n",
    " distinct element."
   ]
  },
  {
   "cell_type": "code",
   "execution_count": null,
   "metadata": {},
   "outputs": [],
   "source": [
    "from heapq import *\n",
    "\n",
    "class KthLargest:\n",
    "    # Constructor to initialize heap and add values in it\n",
    "    def __init__(self, k, nums):\n",
    "        # nums are list\n",
    "        # initialize heap data structure\n",
    "        self.min_heap = [] # top k heap\n",
    "        self.k = k\n",
    "        for element in nums:\n",
    "            self.add(element)\n",
    "\n",
    "\n",
    "    # Adds element in the heap and return the Kth largest\n",
    "    def add(self, val):\n",
    "        if len(self.min_heap) < self.k:\n",
    "            # if < k, keep pushing elements to heap\n",
    "            heappush(self.min_heap, val)\n",
    "        \n",
    "        else:\n",
    "            if val > self.min_heap[0]:\n",
    "                # if val is greater than min element in heap, replace it\n",
    "                heappop(self.min_heap)\n",
    "                heappush(self.min_heap, val)\n",
    "    \n",
    "        return self.min_heap[0]\n"
   ]
  },
  {
   "cell_type": "markdown",
   "metadata": {},
   "source": [
    "#### Q2\n",
    "Find the 𝑘\n",
    "th\n",
    " largest element in an unsorted array."
   ]
  },
  {
   "cell_type": "code",
   "execution_count": 1,
   "metadata": {},
   "outputs": [],
   "source": [
    "def find_kth_largest(nums,k):\n",
    "    if k >= len(nums):\n",
    "        return max(nums)\n",
    "\n",
    "    top_k_heap = []\n",
    "    for element in nums:\n",
    "        if len(top_k_heap) < k:\n",
    "            heappush(top_k_heap, element)\n",
    "        else:\n",
    "            if element > top_k_heap[0]:\n",
    "                heappop(top_k_heap)\n",
    "                heappush(top_k_heap, element)\n",
    "        \n",
    "    return top_k_heap[0]"
   ]
  },
  {
   "cell_type": "markdown",
   "metadata": {},
   "source": [
    "##### Q3\n",
    "Given a string array, words, and an integer k, return the \n",
    "k\n",
    " most frequent strings.\n",
    "\n",
    " Sort the frequencies from highest to lowest and then return the top \n",
    "k\n",
    " frequent words. Words with the same frequency should be sorted by their lexicographical order."
   ]
  },
  {
   "cell_type": "code",
   "execution_count": 2,
   "metadata": {},
   "outputs": [],
   "source": [
    "def top_k_frequent(words,k):\n",
    "    word_freq = {}\n",
    "\n",
    "    for word in words:\n",
    "        if word in word_freq:\n",
    "            word_freq[word] += 1\n",
    "        else:\n",
    "            word_freq[word] = 1\n",
    "    \n",
    "    top_k_heap = []\n",
    "    for word in word_freq:\n",
    "        if len(top_k_heap) < k:\n",
    "            heappush(top_k_heap, (word_freq[word], word))\n",
    "        else:\n",
    "            if word_freq[word] > top_k_heap[0][0]:\n",
    "                heappop(top_k_heap)\n",
    "                heappush(top_k_heap, (word_freq[word], word))\n",
    "        \n",
    "    return [word for _, word in top_k_heap]"
   ]
  },
  {
   "cell_type": "code",
   "execution_count": null,
   "metadata": {},
   "outputs": [],
   "source": []
  }
 ],
 "metadata": {
  "kernelspec": {
   "display_name": "base",
   "language": "python",
   "name": "python3"
  },
  "language_info": {
   "codemirror_mode": {
    "name": "ipython",
    "version": 3
   },
   "file_extension": ".py",
   "mimetype": "text/x-python",
   "name": "python",
   "nbconvert_exporter": "python",
   "pygments_lexer": "ipython3",
   "version": "3.8.5"
  }
 },
 "nbformat": 4,
 "nbformat_minor": 2
}
